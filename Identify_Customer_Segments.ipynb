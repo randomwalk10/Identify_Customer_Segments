{
 "cells": [
  {
   "cell_type": "markdown",
   "metadata": {},
   "source": [
    "# Project: Identify Customer Segments\n",
    "\n",
    "In this project, you will apply unsupervised learning techniques to identify segments of the population that form the core customer base for a mail-order sales company in Germany. These segments can then be used to direct marketing campaigns towards audiences that will have the highest expected rate of returns. The data that you will use has been provided by our partners at Bertelsmann Arvato Analytics, and represents a real-life data science task.\n",
    "\n",
    "This notebook will help you complete this task by providing a framework within which you will perform your analysis steps. In each step of the project, you will see some text describing the subtask that you will perform, followed by one or more code cells for you to complete your work. **Feel free to add additional code and markdown cells as you go along so that you can explore everything in precise chunks.** The code cells provided in the base template will outline only the major tasks, and will usually not be enough to cover all of the minor tasks that comprise it.\n",
    "\n",
    "It should be noted that while there will be precise guidelines on how you should handle certain tasks in the project, there will also be places where an exact specification is not provided. **There will be times in the project where you will need to make and justify your own decisions on how to treat the data.** These are places where there may not be only one way to handle the data. In real-life tasks, there may be many valid ways to approach an analysis task. One of the most important things you can do is clearly document your approach so that other scientists can understand the decisions you've made.\n",
    "\n",
    "At the end of most sections, there will be a Markdown cell labeled **Discussion**. In these cells, you will report your findings for the completed section, as well as document the decisions that you made in your approach to each subtask. **Your project will be evaluated not just on the code used to complete the tasks outlined, but also your communication about your observations and conclusions at each stage.**"
   ]
  },
  {
   "cell_type": "code",
   "execution_count": 1,
   "metadata": {},
   "outputs": [],
   "source": [
    "# import libraries here; add more as necessary\n",
    "import numpy as np\n",
    "import pandas as pd\n",
    "import matplotlib.pyplot as plt\n",
    "import seaborn as sns\n",
    "import random as rd\n",
    "from sklearn import preprocessing\n",
    "from sklearn.decomposition import PCA\n",
    "\n",
    "# magic word for producing visualizations in notebook\n",
    "%matplotlib inline"
   ]
  },
  {
   "cell_type": "markdown",
   "metadata": {},
   "source": [
    "### Step 0: Load the Data\n",
    "\n",
    "There are four files associated with this project (not including this one):\n",
    "\n",
    "- `Udacity_AZDIAS_Subset.csv`: Demographics data for the general population of Germany; 891211 persons (rows) x 85 features (columns).\n",
    "- `Udacity_CUSTOMERS_Subset.csv`: Demographics data for customers of a mail-order company; 191652 persons (rows) x 85 features (columns).\n",
    "- `Data_Dictionary.md`: Detailed information file about the features in the provided datasets.\n",
    "- `AZDIAS_Feature_Summary.csv`: Summary of feature attributes for demographics data; 85 features (rows) x 4 columns\n",
    "\n",
    "Each row of the demographics files represents a single person, but also includes information outside of individuals, including information about their household, building, and neighborhood. You will use this information to cluster the general population into groups with similar demographic properties. Then, you will see how the people in the customers dataset fit into those created clusters. The hope here is that certain clusters are over-represented in the customers data, as compared to the general population; those over-represented clusters will be assumed to be part of the core userbase. This information can then be used for further applications, such as targeting for a marketing campaign.\n",
    "\n",
    "To start off with, load in the demographics data for the general population into a pandas DataFrame, and do the same for the feature attributes summary. Note for all of the `.csv` data files in this project: they're semicolon (`;`) delimited, so you'll need an additional argument in your [`read_csv()`](https://pandas.pydata.org/pandas-docs/stable/generated/pandas.read_csv.html) call to read in the data properly. Also, considering the size of the main dataset, it may take some time for it to load completely.\n",
    "\n",
    "Once the dataset is loaded, it's recommended that you take a little bit of time just browsing the general structure of the dataset and feature summary file. You'll be getting deep into the innards of the cleaning in the first major step of the project, so gaining some general familiarity can help you get your bearings."
   ]
  },
  {
   "cell_type": "code",
   "execution_count": 2,
   "metadata": {},
   "outputs": [],
   "source": [
    "# Load in the general demographics data.\n",
    "azdias = pd.read_csv('Udacity_AZDIAS_Subset.csv', sep=';')\n",
    "\n",
    "# Load in the feature summary file.\n",
    "feat_info = pd.read_csv('AZDIAS_Feature_Summary.csv', sep=';')"
   ]
  },
  {
   "cell_type": "code",
   "execution_count": 3,
   "metadata": {},
   "outputs": [
    {
     "name": "stdout",
     "output_type": "stream",
     "text": [
      "General demographics data: rows 891221 , columns 85\n",
      "Feature summary file: rows 85 , columns 4\n",
      "First FIVE rows of azdias:\n",
      "   AGER_TYP  ALTERSKATEGORIE_GROB  ANREDE_KZ  CJT_GESAMTTYP  \\\n",
      "0        -1                     2          1            2.0   \n",
      "1        -1                     1          2            5.0   \n",
      "2        -1                     3          2            3.0   \n",
      "3         2                     4          2            2.0   \n",
      "4        -1                     3          1            5.0   \n",
      "\n",
      "   FINANZ_MINIMALIST  FINANZ_SPARER  FINANZ_VORSORGER  FINANZ_ANLEGER  \\\n",
      "0                  3              4                 3               5   \n",
      "1                  1              5                 2               5   \n",
      "2                  1              4                 1               2   \n",
      "3                  4              2                 5               2   \n",
      "4                  4              3                 4               1   \n",
      "\n",
      "   FINANZ_UNAUFFAELLIGER  FINANZ_HAUSBAUER    ...     PLZ8_ANTG1  PLZ8_ANTG2  \\\n",
      "0                      5                 3    ...            NaN         NaN   \n",
      "1                      4                 5    ...            2.0         3.0   \n",
      "2                      3                 5    ...            3.0         3.0   \n",
      "3                      1                 2    ...            2.0         2.0   \n",
      "4                      3                 2    ...            2.0         4.0   \n",
      "\n",
      "   PLZ8_ANTG3  PLZ8_ANTG4  PLZ8_BAUMAX  PLZ8_HHZ  PLZ8_GBZ  ARBEIT  \\\n",
      "0         NaN         NaN          NaN       NaN       NaN     NaN   \n",
      "1         2.0         1.0          1.0       5.0       4.0     3.0   \n",
      "2         1.0         0.0          1.0       4.0       4.0     3.0   \n",
      "3         2.0         0.0          1.0       3.0       4.0     2.0   \n",
      "4         2.0         1.0          2.0       3.0       3.0     4.0   \n",
      "\n",
      "   ORTSGR_KLS9  RELAT_AB  \n",
      "0          NaN       NaN  \n",
      "1          5.0       4.0  \n",
      "2          5.0       2.0  \n",
      "3          3.0       3.0  \n",
      "4          6.0       5.0  \n",
      "\n",
      "[5 rows x 85 columns]\n",
      "First FIVE rows of feat_info:\n",
      "              attribute information_level         type missing_or_unknown\n",
      "0              AGER_TYP            person  categorical             [-1,0]\n",
      "1  ALTERSKATEGORIE_GROB            person      ordinal           [-1,0,9]\n",
      "2             ANREDE_KZ            person  categorical             [-1,0]\n",
      "3         CJT_GESAMTTYP            person  categorical                [0]\n",
      "4     FINANZ_MINIMALIST            person      ordinal               [-1]\n"
     ]
    }
   ],
   "source": [
    "# Check the structure of the data after it's loaded (e.g. print the number of\n",
    "# rows and columns, print the first few rows).\n",
    "print('General demographics data: rows', azdias.shape[0], ', columns', azdias.shape[1])\n",
    "print('Feature summary file: rows', feat_info.shape[0], ', columns', feat_info.shape[1])\n",
    "print('First FIVE rows of azdias:')\n",
    "print(azdias.head())\n",
    "print('First FIVE rows of feat_info:')\n",
    "print(feat_info.head())"
   ]
  },
  {
   "cell_type": "markdown",
   "metadata": {},
   "source": [
    "> **Tip**: Add additional cells to keep everything in reasonably-sized chunks! Keyboard shortcut `esc --> a` (press escape to enter command mode, then press the 'A' key) adds a new cell before the active cell, and `esc --> b` adds a new cell after the active cell. If you need to convert an active cell to a markdown cell, use `esc --> m` and to convert to a code cell, use `esc --> y`. \n",
    "\n",
    "## Step 1: Preprocessing\n",
    "\n",
    "### Step 1.1: Assess Missing Data\n",
    "\n",
    "The feature summary file contains a summary of properties for each demographics data column. You will use this file to help you make cleaning decisions during this stage of the project. First of all, you should assess the demographics data in terms of missing data. Pay attention to the following points as you perform your analysis, and take notes on what you observe. Make sure that you fill in the **Discussion** cell with your findings and decisions at the end of each step that has one!\n",
    "\n",
    "#### Step 1.1.1: Convert Missing Value Codes to NaNs\n",
    "The fourth column of the feature attributes summary (loaded in above as `feat_info`) documents the codes from the data dictionary that indicate missing or unknown data. While the file encodes this as a list (e.g. `[-1,0]`), this will get read in as a string object. You'll need to do a little bit of parsing to make use of it to identify and clean the data. Convert data that matches a 'missing' or 'unknown' value code into a numpy NaN value. You might want to see how much data takes on a 'missing' or 'unknown' code, and how much data is naturally missing, as a point of interest.\n",
    "\n",
    "**As one more reminder, you are encouraged to add additional cells to break up your analysis into manageable chunks.**"
   ]
  },
  {
   "cell_type": "code",
   "execution_count": 4,
   "metadata": {},
   "outputs": [],
   "source": [
    "def check_int(s):\n",
    "    if s[0] in ('-', '+'):\n",
    "        return s[1:].isdigit()\n",
    "    return s.isdigit()"
   ]
  },
  {
   "cell_type": "code",
   "execution_count": 5,
   "metadata": {},
   "outputs": [
    {
     "data": {
      "text/html": [
       "<div>\n",
       "<style>\n",
       "    .dataframe thead tr:only-child th {\n",
       "        text-align: right;\n",
       "    }\n",
       "\n",
       "    .dataframe thead th {\n",
       "        text-align: left;\n",
       "    }\n",
       "\n",
       "    .dataframe tbody tr th {\n",
       "        vertical-align: top;\n",
       "    }\n",
       "</style>\n",
       "<table border=\"1\" class=\"dataframe\">\n",
       "  <thead>\n",
       "    <tr style=\"text-align: right;\">\n",
       "      <th></th>\n",
       "      <th>AGER_TYP</th>\n",
       "      <th>ALTERSKATEGORIE_GROB</th>\n",
       "      <th>ANREDE_KZ</th>\n",
       "      <th>CJT_GESAMTTYP</th>\n",
       "      <th>FINANZ_MINIMALIST</th>\n",
       "      <th>FINANZ_SPARER</th>\n",
       "      <th>FINANZ_VORSORGER</th>\n",
       "      <th>FINANZ_ANLEGER</th>\n",
       "      <th>FINANZ_UNAUFFAELLIGER</th>\n",
       "      <th>FINANZ_HAUSBAUER</th>\n",
       "      <th>...</th>\n",
       "      <th>PLZ8_ANTG1</th>\n",
       "      <th>PLZ8_ANTG2</th>\n",
       "      <th>PLZ8_ANTG3</th>\n",
       "      <th>PLZ8_ANTG4</th>\n",
       "      <th>PLZ8_BAUMAX</th>\n",
       "      <th>PLZ8_HHZ</th>\n",
       "      <th>PLZ8_GBZ</th>\n",
       "      <th>ARBEIT</th>\n",
       "      <th>ORTSGR_KLS9</th>\n",
       "      <th>RELAT_AB</th>\n",
       "    </tr>\n",
       "  </thead>\n",
       "  <tbody>\n",
       "    <tr>\n",
       "      <th>0</th>\n",
       "      <td>NaN</td>\n",
       "      <td>2.0</td>\n",
       "      <td>1</td>\n",
       "      <td>2.0</td>\n",
       "      <td>3</td>\n",
       "      <td>4</td>\n",
       "      <td>3</td>\n",
       "      <td>5</td>\n",
       "      <td>5</td>\n",
       "      <td>3</td>\n",
       "      <td>...</td>\n",
       "      <td>NaN</td>\n",
       "      <td>NaN</td>\n",
       "      <td>NaN</td>\n",
       "      <td>NaN</td>\n",
       "      <td>NaN</td>\n",
       "      <td>NaN</td>\n",
       "      <td>NaN</td>\n",
       "      <td>NaN</td>\n",
       "      <td>NaN</td>\n",
       "      <td>NaN</td>\n",
       "    </tr>\n",
       "    <tr>\n",
       "      <th>1</th>\n",
       "      <td>NaN</td>\n",
       "      <td>1.0</td>\n",
       "      <td>2</td>\n",
       "      <td>5.0</td>\n",
       "      <td>1</td>\n",
       "      <td>5</td>\n",
       "      <td>2</td>\n",
       "      <td>5</td>\n",
       "      <td>4</td>\n",
       "      <td>5</td>\n",
       "      <td>...</td>\n",
       "      <td>2.0</td>\n",
       "      <td>3.0</td>\n",
       "      <td>2.0</td>\n",
       "      <td>1.0</td>\n",
       "      <td>1.0</td>\n",
       "      <td>5.0</td>\n",
       "      <td>4.0</td>\n",
       "      <td>3.0</td>\n",
       "      <td>5.0</td>\n",
       "      <td>4.0</td>\n",
       "    </tr>\n",
       "    <tr>\n",
       "      <th>2</th>\n",
       "      <td>NaN</td>\n",
       "      <td>3.0</td>\n",
       "      <td>2</td>\n",
       "      <td>3.0</td>\n",
       "      <td>1</td>\n",
       "      <td>4</td>\n",
       "      <td>1</td>\n",
       "      <td>2</td>\n",
       "      <td>3</td>\n",
       "      <td>5</td>\n",
       "      <td>...</td>\n",
       "      <td>3.0</td>\n",
       "      <td>3.0</td>\n",
       "      <td>1.0</td>\n",
       "      <td>0.0</td>\n",
       "      <td>1.0</td>\n",
       "      <td>4.0</td>\n",
       "      <td>4.0</td>\n",
       "      <td>3.0</td>\n",
       "      <td>5.0</td>\n",
       "      <td>2.0</td>\n",
       "    </tr>\n",
       "    <tr>\n",
       "      <th>3</th>\n",
       "      <td>2.0</td>\n",
       "      <td>4.0</td>\n",
       "      <td>2</td>\n",
       "      <td>2.0</td>\n",
       "      <td>4</td>\n",
       "      <td>2</td>\n",
       "      <td>5</td>\n",
       "      <td>2</td>\n",
       "      <td>1</td>\n",
       "      <td>2</td>\n",
       "      <td>...</td>\n",
       "      <td>2.0</td>\n",
       "      <td>2.0</td>\n",
       "      <td>2.0</td>\n",
       "      <td>0.0</td>\n",
       "      <td>1.0</td>\n",
       "      <td>3.0</td>\n",
       "      <td>4.0</td>\n",
       "      <td>2.0</td>\n",
       "      <td>3.0</td>\n",
       "      <td>3.0</td>\n",
       "    </tr>\n",
       "    <tr>\n",
       "      <th>4</th>\n",
       "      <td>NaN</td>\n",
       "      <td>3.0</td>\n",
       "      <td>1</td>\n",
       "      <td>5.0</td>\n",
       "      <td>4</td>\n",
       "      <td>3</td>\n",
       "      <td>4</td>\n",
       "      <td>1</td>\n",
       "      <td>3</td>\n",
       "      <td>2</td>\n",
       "      <td>...</td>\n",
       "      <td>2.0</td>\n",
       "      <td>4.0</td>\n",
       "      <td>2.0</td>\n",
       "      <td>1.0</td>\n",
       "      <td>2.0</td>\n",
       "      <td>3.0</td>\n",
       "      <td>3.0</td>\n",
       "      <td>4.0</td>\n",
       "      <td>6.0</td>\n",
       "      <td>5.0</td>\n",
       "    </tr>\n",
       "  </tbody>\n",
       "</table>\n",
       "<p>5 rows × 85 columns</p>\n",
       "</div>"
      ],
      "text/plain": [
       "   AGER_TYP  ALTERSKATEGORIE_GROB  ANREDE_KZ  CJT_GESAMTTYP  \\\n",
       "0       NaN                   2.0          1            2.0   \n",
       "1       NaN                   1.0          2            5.0   \n",
       "2       NaN                   3.0          2            3.0   \n",
       "3       2.0                   4.0          2            2.0   \n",
       "4       NaN                   3.0          1            5.0   \n",
       "\n",
       "   FINANZ_MINIMALIST  FINANZ_SPARER  FINANZ_VORSORGER  FINANZ_ANLEGER  \\\n",
       "0                  3              4                 3               5   \n",
       "1                  1              5                 2               5   \n",
       "2                  1              4                 1               2   \n",
       "3                  4              2                 5               2   \n",
       "4                  4              3                 4               1   \n",
       "\n",
       "   FINANZ_UNAUFFAELLIGER  FINANZ_HAUSBAUER    ...     PLZ8_ANTG1  PLZ8_ANTG2  \\\n",
       "0                      5                 3    ...            NaN         NaN   \n",
       "1                      4                 5    ...            2.0         3.0   \n",
       "2                      3                 5    ...            3.0         3.0   \n",
       "3                      1                 2    ...            2.0         2.0   \n",
       "4                      3                 2    ...            2.0         4.0   \n",
       "\n",
       "   PLZ8_ANTG3  PLZ8_ANTG4  PLZ8_BAUMAX  PLZ8_HHZ  PLZ8_GBZ  ARBEIT  \\\n",
       "0         NaN         NaN          NaN       NaN       NaN     NaN   \n",
       "1         2.0         1.0          1.0       5.0       4.0     3.0   \n",
       "2         1.0         0.0          1.0       4.0       4.0     3.0   \n",
       "3         2.0         0.0          1.0       3.0       4.0     2.0   \n",
       "4         2.0         1.0          2.0       3.0       3.0     4.0   \n",
       "\n",
       "   ORTSGR_KLS9  RELAT_AB  \n",
       "0          NaN       NaN  \n",
       "1          5.0       4.0  \n",
       "2          5.0       2.0  \n",
       "3          3.0       3.0  \n",
       "4          6.0       5.0  \n",
       "\n",
       "[5 rows x 85 columns]"
      ]
     },
     "execution_count": 5,
     "metadata": {},
     "output_type": "execute_result"
    }
   ],
   "source": [
    "# Identify missing or unknown data values and convert them to NaNs.\n",
    "for i, label in zip(list(feat_info.index.values), list(azdias.columns.values)):\n",
    "    list_of_nans = [x for x in feat_info.loc[i, 'missing_or_unknown'][1:-1].split(',') if x]\n",
    "    # convert string to int if applicable\n",
    "    for j in range(len(list_of_nans)):\n",
    "        if check_int(list_of_nans[j]):\n",
    "            list_of_nans[j] = int(list_of_nans[j])\n",
    "            pass\n",
    "        pass\n",
    "    # replace missing/unknown values with NaN\n",
    "    if list_of_nans:\n",
    "        azdias[label].replace(to_replace=list_of_nans, value=np.nan, inplace=True)\n",
    "    pass\n",
    "\n",
    "azdias.head() "
   ]
  },
  {
   "cell_type": "markdown",
   "metadata": {},
   "source": [
    "#### Step 1.1.2: Assess Missing Data in Each Column\n",
    "\n",
    "How much missing data is present in each column? There are a few columns that are outliers in terms of the proportion of values that are missing. You will want to use matplotlib's [`hist()`](https://matplotlib.org/api/_as_gen/matplotlib.pyplot.hist.html) function to visualize the distribution of missing value counts to find these columns. Identify and document these columns. While some of these columns might have justifications for keeping or re-encoding the data, for this project you should just remove them from the dataframe. (Feel free to make remarks about these outlier columns in the discussion, however!)\n",
    "\n",
    "For the remaining features, are there any patterns in which columns have, or share, missing data?"
   ]
  },
  {
   "cell_type": "code",
   "execution_count": 6,
   "metadata": {},
   "outputs": [],
   "source": [
    "# Perform an assessment of how much missing data there is in each column of the\n",
    "# dataset.\n",
    "list_of_nan_ratio = []\n",
    "for label in list(azdias.columns.values):\n",
    "    list_of_nan_ratio.append(azdias[label].isnull().sum() / azdias.shape[0])\n",
    "    pass"
   ]
  },
  {
   "cell_type": "code",
   "execution_count": 7,
   "metadata": {},
   "outputs": [
    {
     "data": {
      "image/png": "[encoded data removed]",
      "text/plain": [
       "<matplotlib.figure.Figure at 0x7fabdc775e48>"
      ]
     },
     "metadata": {},
     "output_type": "display_data"
    },
    {
     "name": "stdout",
     "output_type": "stream",
     "text": [
      "[ 39.  40.   0.   1.   1.   1.   1.   1.   0.   1.]\n",
      "[ 0.          0.09975764  0.19951527  0.29927291  0.39903054  0.49878818\n",
      "  0.59854582  0.69830345  0.79806109  0.89781872  0.99757636]\n"
     ]
    }
   ],
   "source": [
    "# Investigate patterns in the amount of missing data in each column.\n",
    "n, bins, patches = plt.hist(list_of_nan_ratio)\n",
    "\n",
    "plt.xlabel('Ratio of Missing Values')\n",
    "plt.ylabel('Counts')\n",
    "plt.title('Histogram of Missing Values across Columns')\n",
    "plt.grid(True)\n",
    "plt.show()\n",
    "print(n)\n",
    "print(bins)"
   ]
  },
  {
   "cell_type": "code",
   "execution_count": 8,
   "metadata": {},
   "outputs": [
    {
     "name": "stdout",
     "output_type": "stream",
     "text": [
      "features to remove: ['AGER_TYP', 'GEBURTSJAHR', 'TITEL_KZ', 'ALTER_HH', 'KK_KUNDENTYP', 'KBA05_BAUMAX']\n",
      "num of columns in azdias: 79\n",
      "num of rows in feat_info: 79\n"
     ]
    }
   ],
   "source": [
    "# Remove the outlier columns from the dataset. (You'll perform other data\n",
    "# engineering tasks such as re-encoding and imputation later.)\n",
    "threshold_ratio = 0.20\n",
    "features_to_remove = []\n",
    "index_to_remove = []\n",
    "for i, label in zip(list(feat_info.index.values), list(azdias.columns.values)):\n",
    "    if list_of_nan_ratio[i] > threshold_ratio:\n",
    "        features_to_remove.append(label)\n",
    "        index_to_remove.append(i)\n",
    "        pass\n",
    "    pass\n",
    "\n",
    "print('features to remove:', features_to_remove)\n",
    "\n",
    "\n",
    "azdias = azdias.drop(features_to_remove, axis=1) # axis 1: column\n",
    "print('num of columns in azdias:', azdias.shape[1])\n",
    "\n",
    "feat_info = feat_info.drop(index_to_remove, axis=0) # axis 0: row\n",
    "print('num of rows in feat_info:', feat_info.shape[0])"
   ]
  },
  {
   "cell_type": "markdown",
   "metadata": {},
   "source": [
    "#### Discussion 1.1.2: Assess Missing Data in Each Column\n",
    "\n",
    "(Double click this cell and replace this text with your own text, reporting your observations regarding the amount of missing data in each column. Are there any patterns in missing values? Which columns were removed from the dataset?)\n",
    "\n",
    "Among 85 columns/features, 39 of them have no or nearly zero missing data and 40 of them have about 10% of data that are missing. There are 6 outliers among these columns and each of them have an abnormaly large percentage of missing data(>20%).\n",
    "\n",
    "Two columns are removed and they are 'AGER_TYP', 'GEBURTSJAHR', 'TITEL_KZ', 'ALTER_HH', 'KK_KUNDENTYP', 'KBA05_BAUMAX'."
   ]
  },
  {
   "cell_type": "markdown",
   "metadata": {},
   "source": [
    "#### Step 1.1.3: Assess Missing Data in Each Row\n",
    "\n",
    "Now, you'll perform a similar assessment for the rows of the dataset. How much data is missing in each row? As with the columns, you should see some groups of points that have a very different numbers of missing values. Divide the data into two subsets: one for data points that are above some threshold for missing values, and a second subset for points below that threshold.\n",
    "\n",
    "In order to know what to do with the outlier rows, we should see if the distribution of data values on columns that are not missing data (or are missing very little data) are similar or different between the two groups. Select at least five of these columns and compare the distribution of values.\n",
    "- You can use seaborn's [`countplot()`](https://seaborn.pydata.org/generated/seaborn.countplot.html) function to create a bar chart of code frequencies and matplotlib's [`subplot()`](https://matplotlib.org/api/_as_gen/matplotlib.pyplot.subplot.html) function to put bar charts for the two subplots side by side.\n",
    "- To reduce repeated code, you might want to write a function that can perform this comparison, taking as one of its arguments a column to be compared.\n",
    "\n",
    "Depending on what you observe in your comparison, this will have implications on how you approach your conclusions later in the analysis. If the distributions of non-missing features look similar between the data with many missing values and the data with few or no missing values, then we could argue that simply dropping those points from the analysis won't present a major issue. On the other hand, if the data with many missing values looks very different from the data with few or no missing values, then we should make a note on those data as special. We'll revisit these data later on. **Either way, you should continue your analysis for now using just the subset of the data with few or no missing values.**"
   ]
  },
  {
   "cell_type": "code",
   "execution_count": 9,
   "metadata": {},
   "outputs": [],
   "source": [
    "# How much data is missing in each row of the dataset?\n",
    "missing_data_per_row = azdias.isnull().sum(axis=1)"
   ]
  },
  {
   "cell_type": "code",
   "execution_count": 10,
   "metadata": {},
   "outputs": [
    {
     "data": {
      "image/png": "[encoded data removed]",
      "text/plain": [
       "<matplotlib.figure.Figure at 0x7fabdc6e1470>"
      ]
     },
     "metadata": {},
     "output_type": "display_data"
    }
   ],
   "source": [
    "plt.hist(missing_data_per_row)\n",
    "\n",
    "plt.xlabel('Number of Missing Values')\n",
    "plt.ylabel('Counts')\n",
    "plt.title('Histogram of Missing Values across Rows(Data Points)')\n",
    "plt.grid(True)\n",
    "plt.show()"
   ]
  },
  {
   "cell_type": "code",
   "execution_count": 11,
   "metadata": {},
   "outputs": [
    {
     "name": "stdout",
     "output_type": "stream",
     "text": [
      "subset with no or few missing values(<=1) has 638947 rows\n",
      "subset with many missing values(>1) has 252274 rows\n"
     ]
    }
   ],
   "source": [
    "# Write code to divide the data into two subsets based on the number of missing\n",
    "# values in each row.\n",
    "\n",
    "thresh_row = 1\n",
    "\n",
    "list_of_rows_below_thresh = []\n",
    "list_of_rows_above_thresh = []\n",
    "\n",
    "for i in range(len(missing_data_per_row)):\n",
    "    if thresh_row >= missing_data_per_row[i]:\n",
    "        list_of_rows_below_thresh.append(i)\n",
    "        pass\n",
    "    else:\n",
    "        list_of_rows_above_thresh.append(i)\n",
    "        pass\n",
    "    pass\n",
    "\n",
    "azdias_subset1 = azdias.iloc[list_of_rows_below_thresh, :]\n",
    "azdias_subset2 = azdias.iloc[list_of_rows_above_thresh, :]\n",
    "print(\"subset with no or few missing values(<={}) has {} rows\".format(thresh_row, azdias_subset1.shape[0]))\n",
    "print(\"subset with many missing values(>{}) has {} rows\".format(thresh_row, azdias_subset2.shape[0]))"
   ]
  },
  {
   "cell_type": "code",
   "execution_count": 12,
   "metadata": {},
   "outputs": [],
   "source": [
    "# Compare the distribution of values for at least five columns where there are\n",
    "# no or few missing values, between the two subsets.\n",
    "missing_data_per_column = azdias.isnull().sum(axis=0).tolist()"
   ]
  },
  {
   "cell_type": "code",
   "execution_count": 13,
   "metadata": {},
   "outputs": [
    {
     "name": "stdout",
     "output_type": "stream",
     "text": [
      "number of columns in azdias with zero missing value 24\n"
     ]
    }
   ],
   "source": [
    "features_with_no_missing_data = []\n",
    "for i, data in enumerate(missing_data_per_column):\n",
    "    if 0==data:\n",
    "        features_with_no_missing_data.append(azdias.columns.values[i])\n",
    "        pass\n",
    "    pass\n",
    "print(\"number of columns in azdias with zero missing value\", len(features_with_no_missing_data))"
   ]
  },
  {
   "cell_type": "code",
   "execution_count": 14,
   "metadata": {},
   "outputs": [],
   "source": [
    "# randomly select 5 features with zero missing data\n",
    "selected_features = rd.sample(features_with_no_missing_data, 5)"
   ]
  },
  {
   "cell_type": "code",
   "execution_count": 15,
   "metadata": {},
   "outputs": [],
   "source": [
    "def compareFeatureDist(label='', index=0):\n",
    "    plt.figure(index)\n",
    "    ax1 = plt.subplot(131)\n",
    "    sns.barplot(x=label, y=label, data=azdias_subset1, ax=ax1,\n",
    "                estimator=lambda x: len(x) / azdias_subset1.shape[0] * 100)\n",
    "    ax1.set_title('subset of zero missing data')\n",
    "    ax1.set(ylabel=\"Percent\")\n",
    "    ax2 = plt.subplot(133)\n",
    "    sns.barplot(x=label, y=label, data=azdias_subset2, ax=ax2,      \n",
    "                estimator=lambda x: len(x) / azdias_subset2.shape[0] * 100)\n",
    "    ax2.set_title('subset of many missing data')\n",
    "    ax2.set(ylabel=\"Percent\")\n",
    "    pass"
   ]
  },
  {
   "cell_type": "code",
   "execution_count": 16,
   "metadata": {},
   "outputs": [
    {
     "data": {
      "image/png": "[encoded data removed]",
      "text/plain": [
       "<matplotlib.figure.Figure at 0x7fabd0299470>"
      ]
     },
     "metadata": {},
     "output_type": "display_data"
    },
    {
     "data": {
      "image/png": "[encoded data removed]",
      "text/plain": [
       "<matplotlib.figure.Figure at 0x7fabb168bc50>"
      ]
     },
     "metadata": {},
     "output_type": "display_data"
    },
    {
     "data": {
      "image/png": "[encoded data removed]",
      "text/plain": [
       "<matplotlib.figure.Figure at 0x7fabb16230f0>"
      ]
     },
     "metadata": {},
     "output_type": "display_data"
    },
    {
     "data": {
      "image/png": "[encoded data removed]",
      "text/plain": [
       "<matplotlib.figure.Figure at 0x7fabb155a6a0>"
      ]
     },
     "metadata": {},
     "output_type": "display_data"
    },
    {
     "data": {
      "image/png": "[encoded data removed]",
      "text/plain": [
       "<matplotlib.figure.Figure at 0x7fabb14a83c8>"
      ]
     },
     "metadata": {},
     "output_type": "display_data"
    }
   ],
   "source": [
    "for i, label in enumerate(selected_features):\n",
    "    compareFeatureDist(label, i)\n",
    "    pass"
   ]
  },
  {
   "cell_type": "markdown",
   "metadata": {},
   "source": [
    "#### Discussion 1.1.3: Assess Missing Data in Each Row\n",
    "\n",
    "(Double-click this cell and replace this text with your own text, reporting your observations regarding missing data in rows. Are the data with lots of missing values are qualitatively different from data with few or no missing values?)\n",
    "\n",
    "Based on the distributions of randomly selected features(shown above), 2 out of 5(ZABEOTYP, ANREDE_KZ) have similar distributions across the two divided data sets(one with zero/few missing data and the other with many missing data). As a result, these two data sets are qualitatively different from each other."
   ]
  },
  {
   "cell_type": "markdown",
   "metadata": {},
   "source": [
    "### Step 1.2: Select and Re-Encode Features\n",
    "\n",
    "Checking for missing data isn't the only way in which you can prepare a dataset for analysis. Since the unsupervised learning techniques to be used will only work on data that is encoded numerically, you need to make a few encoding changes or additional assumptions to be able to make progress. In addition, while almost all of the values in the dataset are encoded using numbers, not all of them represent numeric values. Check the third column of the feature summary (`feat_info`) for a summary of types of measurement.\n",
    "- For numeric and interval data, these features can be kept without changes.\n",
    "- Most of the variables in the dataset are ordinal in nature. While ordinal values may technically be non-linear in spacing, make the simplifying assumption that the ordinal variables can be treated as being interval in nature (that is, kept without any changes).\n",
    "- Special handling may be necessary for the remaining two variable types: categorical, and 'mixed'.\n",
    "\n",
    "In the first two parts of this sub-step, you will perform an investigation of the categorical and mixed-type features and make a decision on each of them, whether you will keep, drop, or re-encode each. Then, in the last part, you will create a new data frame with only the selected and engineered columns.\n",
    "\n",
    "Data wrangling is often the trickiest part of the data analysis process, and there's a lot of it to be done here. But stick with it: once you're done with this step, you'll be ready to get to the machine learning parts of the project!"
   ]
  },
  {
   "cell_type": "code",
   "execution_count": 17,
   "metadata": {},
   "outputs": [
    {
     "name": "stdout",
     "output_type": "stream",
     "text": [
      "number of [ categorical ] feature is 18\n",
      "number of [ mixed ] feature is 6\n",
      "number of [ numeric ] feature is 6\n",
      "number of [ ordinal ] feature is 49\n"
     ]
    }
   ],
   "source": [
    "# How many features are there of each data type?\n",
    "list_data_type = list(np.unique(feat_info['type']))\n",
    "\n",
    "for x in list_data_type:\n",
    "    print('number of [', x, '] feature is', (feat_info['type']==x).sum())\n",
    "    pass"
   ]
  },
  {
   "cell_type": "markdown",
   "metadata": {},
   "source": [
    "#### Step 1.2.1: Re-Encode Categorical Features\n",
    "\n",
    "For categorical data, you would ordinarily need to encode the levels as dummy variables. Depending on the number of categories, perform one of the following:\n",
    "- For binary (two-level) categoricals that take numeric values, you can keep them without needing to do anything.\n",
    "- There is one binary variable that takes on non-numeric values. For this one, you need to re-encode the values as numbers or create a dummy variable.\n",
    "- For multi-level categoricals (three or more values), you can choose to encode the values using multiple dummy variables (e.g. via [OneHotEncoder](http://scikit-learn.org/stable/modules/generated/sklearn.preprocessing.OneHotEncoder.html)), or (to keep things straightforward) just drop them from the analysis. As always, document your choices in the Discussion section."
   ]
  },
  {
   "cell_type": "code",
   "execution_count": 18,
   "metadata": {},
   "outputs": [
    {
     "name": "stdout",
     "output_type": "stream",
     "text": [
      "indice of categorical features:  [ 2  3 10 12 13 17 18 19 20 21 38 39 41 42 52 55 57 58]\n"
     ]
    }
   ],
   "source": [
    "# Assess categorical variables: which are binary, which are multi-level, and\n",
    "# which one needs to be re-encoded?\n",
    "\n",
    "list_of_cat_idx = feat_info[feat_info['type']=='categorical'].index.values\n",
    "print('indice of categorical features: ', list_of_cat_idx)\n",
    "#print('categorical features: ', list(feat_info.loc[list_of_cat_idx, 'attribute']))"
   ]
  },
  {
   "cell_type": "code",
   "execution_count": 19,
   "metadata": {},
   "outputs": [
    {
     "name": "stdout",
     "output_type": "stream",
     "text": [
      "indice of binary categorical features:  [2, 13, 39, 41, 55]\n",
      "indice of multi-level categorical features:  [3, 10, 12, 17, 18, 19, 20, 21, 38, 42, 52, 57, 58]\n",
      "indice of categorical features to be re-encoded:  [3, 10, 12, 17, 18, 19, 20, 21, 38, 42, 52, 55, 57, 58]\n"
     ]
    }
   ],
   "source": [
    "list_of_binary_cat = []\n",
    "list_of_multi_cat = []\n",
    "list_of_reencode = []\n",
    "for cat_idx in list_of_cat_idx:\n",
    "    label = feat_info.loc[cat_idx, 'attribute']\n",
    "    array_of_uniques = np.unique(azdias_subset1.loc[azdias_subset1[label].notnull(), label])\n",
    "    if len(array_of_uniques)>2:\n",
    "        list_of_multi_cat.append(cat_idx)\n",
    "        list_of_reencode.append(cat_idx)\n",
    "        pass\n",
    "    else:\n",
    "        list_of_binary_cat.append(cat_idx)\n",
    "        if ( not isinstance(array_of_uniques[0], np.int64) and not isinstance(array_of_uniques[0], np.float64) ) or \\\n",
    "            ( not isinstance(array_of_uniques[1], np.int64) and not isinstance(array_of_uniques[1], np.float64) ):\n",
    "                list_of_reencode.append(cat_idx)\n",
    "                pass\n",
    "        pass\n",
    "    pass\n",
    "\n",
    "print('indice of binary categorical features: ', list_of_binary_cat)\n",
    "#print('binary categorical features: ', list(feat_info.loc[list_of_binary_cat, 'attribute']))\n",
    "print('indice of multi-level categorical features: ', list_of_multi_cat)\n",
    "#print('multi-level categorical features: ', list(feat_info.loc[list_of_multi_cat, 'attribute']))\n",
    "print('indice of categorical features to be re-encoded: ', list_of_reencode)\n",
    "#print('categorical features to be re-encoded: ', list(feat_info.loc[list_of_reencode, 'attribute']))"
   ]
  },
  {
   "cell_type": "code",
   "execution_count": 20,
   "metadata": {},
   "outputs": [
    {
     "name": "stderr",
     "output_type": "stream",
     "text": [
      "/opt/conda/lib/python3.6/site-packages/pandas/core/indexing.py:517: SettingWithCopyWarning: \n",
      "A value is trying to be set on a copy of a slice from a DataFrame.\n",
      "Try using .loc[row_indexer,col_indexer] = value instead\n",
      "\n",
      "See the caveats in the documentation: http://pandas.pydata.org/pandas-docs/stable/indexing.html#indexing-view-versus-copy\n",
      "  self.obj[item] = s\n"
     ]
    }
   ],
   "source": [
    "# Re-encode categorical variable(s) to be kept in the analysis.\n",
    "\n",
    "# replace values in columns to be reencoded with numeric values\n",
    "reencode_map={}\n",
    "for cat_idx in list_of_reencode:\n",
    "    label = feat_info.loc[cat_idx, 'attribute']\n",
    "    array_of_uniques = np.unique(azdias_subset1.loc[azdias_subset1[label].notnull(), label])\n",
    "    reencode_map[label] = array_of_uniques\n",
    "    for i, x in enumerate(array_of_uniques):\n",
    "        # azdias_subset1[label].replace(to_replace=x, value=i, inplace=True)\n",
    "        azdias_subset1.loc[azdias_subset1[label]==x, label] = i\n",
    "        pass\n",
    "    pass"
   ]
  },
  {
   "cell_type": "code",
   "execution_count": 21,
   "metadata": {},
   "outputs": [
    {
     "name": "stdout",
     "output_type": "stream",
     "text": [
      "# of new columns to be added: 116\n"
     ]
    }
   ],
   "source": [
    "extra_columns = 0\n",
    "for cat_idx in list_of_reencode:\n",
    "    label = feat_info.loc[cat_idx, 'attribute']\n",
    "    array_of_uniques = np.unique(azdias_subset1.loc[azdias_subset1[label].notnull(), label])\n",
    "    extra_columns += len(array_of_uniques) - 1\n",
    "    pass\n",
    "\n",
    "print('# of new columns to be added: {}'.format(extra_columns))"
   ]
  },
  {
   "cell_type": "code",
   "execution_count": 22,
   "metadata": {},
   "outputs": [],
   "source": [
    "# get the sub dataframe to be one-hot-encoded\n",
    "azdias_reencode = azdias_subset1[feat_info.loc[list_of_reencode, 'attribute']]"
   ]
  },
  {
   "cell_type": "code",
   "execution_count": 23,
   "metadata": {},
   "outputs": [],
   "source": [
    "# get a list of new columns names\n",
    "list_of_One_Hot_Encoded_Features = []\n",
    "for label, values in reencode_map.items():\n",
    "    for v in values:\n",
    "        if type(v)==str:\n",
    "            list_of_One_Hot_Encoded_Features.append(label+'_'+v)\n",
    "            pass\n",
    "        else:\n",
    "            list_of_One_Hot_Encoded_Features.append(label+'_'+str(v))\n",
    "            pass\n",
    "    pass"
   ]
  },
  {
   "cell_type": "code",
   "execution_count": 24,
   "metadata": {},
   "outputs": [
    {
     "data": {
      "text/html": [
       "<div>\n",
       "<style>\n",
       "    .dataframe thead tr:only-child th {\n",
       "        text-align: right;\n",
       "    }\n",
       "\n",
       "    .dataframe thead th {\n",
       "        text-align: left;\n",
       "    }\n",
       "\n",
       "    .dataframe tbody tr th {\n",
       "        vertical-align: top;\n",
       "    }\n",
       "</style>\n",
       "<table border=\"1\" class=\"dataframe\">\n",
       "  <thead>\n",
       "    <tr style=\"text-align: right;\">\n",
       "      <th></th>\n",
       "      <th>CJT_GESAMTTYP_1.0</th>\n",
       "      <th>CJT_GESAMTTYP_2.0</th>\n",
       "      <th>CJT_GESAMTTYP_3.0</th>\n",
       "      <th>CJT_GESAMTTYP_4.0</th>\n",
       "      <th>CJT_GESAMTTYP_5.0</th>\n",
       "      <th>CJT_GESAMTTYP_6.0</th>\n",
       "      <th>FINANZTYP_1</th>\n",
       "      <th>FINANZTYP_2</th>\n",
       "      <th>FINANZTYP_3</th>\n",
       "      <th>FINANZTYP_4</th>\n",
       "      <th>...</th>\n",
       "      <th>CAMEO_DEU_2015_7E</th>\n",
       "      <th>CAMEO_DEU_2015_8A</th>\n",
       "      <th>CAMEO_DEU_2015_8B</th>\n",
       "      <th>CAMEO_DEU_2015_8C</th>\n",
       "      <th>CAMEO_DEU_2015_8D</th>\n",
       "      <th>CAMEO_DEU_2015_9A</th>\n",
       "      <th>CAMEO_DEU_2015_9B</th>\n",
       "      <th>CAMEO_DEU_2015_9C</th>\n",
       "      <th>CAMEO_DEU_2015_9D</th>\n",
       "      <th>CAMEO_DEU_2015_9E</th>\n",
       "    </tr>\n",
       "  </thead>\n",
       "  <tbody>\n",
       "    <tr>\n",
       "      <th>1</th>\n",
       "      <td>0.0</td>\n",
       "      <td>0.0</td>\n",
       "      <td>0.0</td>\n",
       "      <td>0.0</td>\n",
       "      <td>1.0</td>\n",
       "      <td>0.0</td>\n",
       "      <td>1.0</td>\n",
       "      <td>0.0</td>\n",
       "      <td>0.0</td>\n",
       "      <td>0.0</td>\n",
       "      <td>...</td>\n",
       "      <td>0.0</td>\n",
       "      <td>1.0</td>\n",
       "      <td>0.0</td>\n",
       "      <td>0.0</td>\n",
       "      <td>0.0</td>\n",
       "      <td>0.0</td>\n",
       "      <td>0.0</td>\n",
       "      <td>0.0</td>\n",
       "      <td>0.0</td>\n",
       "      <td>0.0</td>\n",
       "    </tr>\n",
       "    <tr>\n",
       "      <th>2</th>\n",
       "      <td>0.0</td>\n",
       "      <td>0.0</td>\n",
       "      <td>1.0</td>\n",
       "      <td>0.0</td>\n",
       "      <td>0.0</td>\n",
       "      <td>0.0</td>\n",
       "      <td>1.0</td>\n",
       "      <td>0.0</td>\n",
       "      <td>0.0</td>\n",
       "      <td>0.0</td>\n",
       "      <td>...</td>\n",
       "      <td>0.0</td>\n",
       "      <td>0.0</td>\n",
       "      <td>0.0</td>\n",
       "      <td>0.0</td>\n",
       "      <td>0.0</td>\n",
       "      <td>0.0</td>\n",
       "      <td>0.0</td>\n",
       "      <td>0.0</td>\n",
       "      <td>0.0</td>\n",
       "      <td>0.0</td>\n",
       "    </tr>\n",
       "    <tr>\n",
       "      <th>4</th>\n",
       "      <td>0.0</td>\n",
       "      <td>0.0</td>\n",
       "      <td>0.0</td>\n",
       "      <td>0.0</td>\n",
       "      <td>1.0</td>\n",
       "      <td>0.0</td>\n",
       "      <td>0.0</td>\n",
       "      <td>0.0</td>\n",
       "      <td>0.0</td>\n",
       "      <td>0.0</td>\n",
       "      <td>...</td>\n",
       "      <td>0.0</td>\n",
       "      <td>0.0</td>\n",
       "      <td>0.0</td>\n",
       "      <td>0.0</td>\n",
       "      <td>0.0</td>\n",
       "      <td>0.0</td>\n",
       "      <td>0.0</td>\n",
       "      <td>0.0</td>\n",
       "      <td>0.0</td>\n",
       "      <td>0.0</td>\n",
       "    </tr>\n",
       "    <tr>\n",
       "      <th>5</th>\n",
       "      <td>0.0</td>\n",
       "      <td>1.0</td>\n",
       "      <td>0.0</td>\n",
       "      <td>0.0</td>\n",
       "      <td>0.0</td>\n",
       "      <td>0.0</td>\n",
       "      <td>0.0</td>\n",
       "      <td>1.0</td>\n",
       "      <td>0.0</td>\n",
       "      <td>0.0</td>\n",
       "      <td>...</td>\n",
       "      <td>0.0</td>\n",
       "      <td>0.0</td>\n",
       "      <td>0.0</td>\n",
       "      <td>1.0</td>\n",
       "      <td>0.0</td>\n",
       "      <td>0.0</td>\n",
       "      <td>0.0</td>\n",
       "      <td>0.0</td>\n",
       "      <td>0.0</td>\n",
       "      <td>0.0</td>\n",
       "    </tr>\n",
       "    <tr>\n",
       "      <th>6</th>\n",
       "      <td>0.0</td>\n",
       "      <td>0.0</td>\n",
       "      <td>0.0</td>\n",
       "      <td>0.0</td>\n",
       "      <td>1.0</td>\n",
       "      <td>0.0</td>\n",
       "      <td>0.0</td>\n",
       "      <td>0.0</td>\n",
       "      <td>0.0</td>\n",
       "      <td>1.0</td>\n",
       "      <td>...</td>\n",
       "      <td>0.0</td>\n",
       "      <td>0.0</td>\n",
       "      <td>0.0</td>\n",
       "      <td>0.0</td>\n",
       "      <td>0.0</td>\n",
       "      <td>0.0</td>\n",
       "      <td>0.0</td>\n",
       "      <td>0.0</td>\n",
       "      <td>0.0</td>\n",
       "      <td>0.0</td>\n",
       "    </tr>\n",
       "  </tbody>\n",
       "</table>\n",
       "<p>5 rows × 130 columns</p>\n",
       "</div>"
      ],
      "text/plain": [
       "   CJT_GESAMTTYP_1.0  CJT_GESAMTTYP_2.0  CJT_GESAMTTYP_3.0  CJT_GESAMTTYP_4.0  \\\n",
       "1                0.0                0.0                0.0                0.0   \n",
       "2                0.0                0.0                1.0                0.0   \n",
       "4                0.0                0.0                0.0                0.0   \n",
       "5                0.0                1.0                0.0                0.0   \n",
       "6                0.0                0.0                0.0                0.0   \n",
       "\n",
       "   CJT_GESAMTTYP_5.0  CJT_GESAMTTYP_6.0  FINANZTYP_1  FINANZTYP_2  \\\n",
       "1                1.0                0.0          1.0          0.0   \n",
       "2                0.0                0.0          1.0          0.0   \n",
       "4                1.0                0.0          0.0          0.0   \n",
       "5                0.0                0.0          0.0          1.0   \n",
       "6                1.0                0.0          0.0          0.0   \n",
       "\n",
       "   FINANZTYP_3  FINANZTYP_4        ...          CAMEO_DEU_2015_7E  \\\n",
       "1          0.0          0.0        ...                        0.0   \n",
       "2          0.0          0.0        ...                        0.0   \n",
       "4          0.0          0.0        ...                        0.0   \n",
       "5          0.0          0.0        ...                        0.0   \n",
       "6          0.0          1.0        ...                        0.0   \n",
       "\n",
       "   CAMEO_DEU_2015_8A  CAMEO_DEU_2015_8B  CAMEO_DEU_2015_8C  CAMEO_DEU_2015_8D  \\\n",
       "1                1.0                0.0                0.0                0.0   \n",
       "2                0.0                0.0                0.0                0.0   \n",
       "4                0.0                0.0                0.0                0.0   \n",
       "5                0.0                0.0                1.0                0.0   \n",
       "6                0.0                0.0                0.0                0.0   \n",
       "\n",
       "   CAMEO_DEU_2015_9A  CAMEO_DEU_2015_9B  CAMEO_DEU_2015_9C  CAMEO_DEU_2015_9D  \\\n",
       "1                0.0                0.0                0.0                0.0   \n",
       "2                0.0                0.0                0.0                0.0   \n",
       "4                0.0                0.0                0.0                0.0   \n",
       "5                0.0                0.0                0.0                0.0   \n",
       "6                0.0                0.0                0.0                0.0   \n",
       "\n",
       "   CAMEO_DEU_2015_9E  \n",
       "1                0.0  \n",
       "2                0.0  \n",
       "4                0.0  \n",
       "5                0.0  \n",
       "6                0.0  \n",
       "\n",
       "[5 rows x 130 columns]"
      ]
     },
     "execution_count": 24,
     "metadata": {},
     "output_type": "execute_result"
    }
   ],
   "source": [
    "# perform one hot encoding\n",
    "enc_one = preprocessing.OneHotEncoder()\n",
    "reencoded_data = enc_one.fit_transform(azdias_reencode)\n",
    "reencoded_data.toarray().shape\n",
    "azdias_onehot = pd.DataFrame(reencoded_data.toarray(),\n",
    "                             index=azdias_reencode.index,\n",
    "                             columns=list_of_One_Hot_Encoded_Features)\n",
    "azdias_onehot.head()"
   ]
  },
  {
   "cell_type": "code",
   "execution_count": 25,
   "metadata": {},
   "outputs": [
    {
     "data": {
      "text/html": [
       "<div>\n",
       "<style>\n",
       "    .dataframe thead tr:only-child th {\n",
       "        text-align: right;\n",
       "    }\n",
       "\n",
       "    .dataframe thead th {\n",
       "        text-align: left;\n",
       "    }\n",
       "\n",
       "    .dataframe tbody tr th {\n",
       "        vertical-align: top;\n",
       "    }\n",
       "</style>\n",
       "<table border=\"1\" class=\"dataframe\">\n",
       "  <thead>\n",
       "    <tr style=\"text-align: right;\">\n",
       "      <th></th>\n",
       "      <th>ALTERSKATEGORIE_GROB</th>\n",
       "      <th>ANREDE_KZ</th>\n",
       "      <th>FINANZ_MINIMALIST</th>\n",
       "      <th>FINANZ_SPARER</th>\n",
       "      <th>FINANZ_VORSORGER</th>\n",
       "      <th>FINANZ_ANLEGER</th>\n",
       "      <th>FINANZ_UNAUFFAELLIGER</th>\n",
       "      <th>FINANZ_HAUSBAUER</th>\n",
       "      <th>GREEN_AVANTGARDE</th>\n",
       "      <th>HEALTH_TYP</th>\n",
       "      <th>...</th>\n",
       "      <th>CAMEO_DEU_2015_7E</th>\n",
       "      <th>CAMEO_DEU_2015_8A</th>\n",
       "      <th>CAMEO_DEU_2015_8B</th>\n",
       "      <th>CAMEO_DEU_2015_8C</th>\n",
       "      <th>CAMEO_DEU_2015_8D</th>\n",
       "      <th>CAMEO_DEU_2015_9A</th>\n",
       "      <th>CAMEO_DEU_2015_9B</th>\n",
       "      <th>CAMEO_DEU_2015_9C</th>\n",
       "      <th>CAMEO_DEU_2015_9D</th>\n",
       "      <th>CAMEO_DEU_2015_9E</th>\n",
       "    </tr>\n",
       "  </thead>\n",
       "  <tbody>\n",
       "    <tr>\n",
       "      <th>1</th>\n",
       "      <td>1.0</td>\n",
       "      <td>2</td>\n",
       "      <td>1</td>\n",
       "      <td>5</td>\n",
       "      <td>2</td>\n",
       "      <td>5</td>\n",
       "      <td>4</td>\n",
       "      <td>5</td>\n",
       "      <td>0</td>\n",
       "      <td>3.0</td>\n",
       "      <td>...</td>\n",
       "      <td>0.0</td>\n",
       "      <td>1.0</td>\n",
       "      <td>0.0</td>\n",
       "      <td>0.0</td>\n",
       "      <td>0.0</td>\n",
       "      <td>0.0</td>\n",
       "      <td>0.0</td>\n",
       "      <td>0.0</td>\n",
       "      <td>0.0</td>\n",
       "      <td>0.0</td>\n",
       "    </tr>\n",
       "    <tr>\n",
       "      <th>2</th>\n",
       "      <td>3.0</td>\n",
       "      <td>2</td>\n",
       "      <td>1</td>\n",
       "      <td>4</td>\n",
       "      <td>1</td>\n",
       "      <td>2</td>\n",
       "      <td>3</td>\n",
       "      <td>5</td>\n",
       "      <td>1</td>\n",
       "      <td>3.0</td>\n",
       "      <td>...</td>\n",
       "      <td>0.0</td>\n",
       "      <td>0.0</td>\n",
       "      <td>0.0</td>\n",
       "      <td>0.0</td>\n",
       "      <td>0.0</td>\n",
       "      <td>0.0</td>\n",
       "      <td>0.0</td>\n",
       "      <td>0.0</td>\n",
       "      <td>0.0</td>\n",
       "      <td>0.0</td>\n",
       "    </tr>\n",
       "    <tr>\n",
       "      <th>4</th>\n",
       "      <td>3.0</td>\n",
       "      <td>1</td>\n",
       "      <td>4</td>\n",
       "      <td>3</td>\n",
       "      <td>4</td>\n",
       "      <td>1</td>\n",
       "      <td>3</td>\n",
       "      <td>2</td>\n",
       "      <td>0</td>\n",
       "      <td>3.0</td>\n",
       "      <td>...</td>\n",
       "      <td>0.0</td>\n",
       "      <td>0.0</td>\n",
       "      <td>0.0</td>\n",
       "      <td>0.0</td>\n",
       "      <td>0.0</td>\n",
       "      <td>0.0</td>\n",
       "      <td>0.0</td>\n",
       "      <td>0.0</td>\n",
       "      <td>0.0</td>\n",
       "      <td>0.0</td>\n",
       "    </tr>\n",
       "    <tr>\n",
       "      <th>5</th>\n",
       "      <td>1.0</td>\n",
       "      <td>2</td>\n",
       "      <td>3</td>\n",
       "      <td>1</td>\n",
       "      <td>5</td>\n",
       "      <td>2</td>\n",
       "      <td>2</td>\n",
       "      <td>5</td>\n",
       "      <td>0</td>\n",
       "      <td>3.0</td>\n",
       "      <td>...</td>\n",
       "      <td>0.0</td>\n",
       "      <td>0.0</td>\n",
       "      <td>0.0</td>\n",
       "      <td>1.0</td>\n",
       "      <td>0.0</td>\n",
       "      <td>0.0</td>\n",
       "      <td>0.0</td>\n",
       "      <td>0.0</td>\n",
       "      <td>0.0</td>\n",
       "      <td>0.0</td>\n",
       "    </tr>\n",
       "    <tr>\n",
       "      <th>6</th>\n",
       "      <td>2.0</td>\n",
       "      <td>2</td>\n",
       "      <td>1</td>\n",
       "      <td>5</td>\n",
       "      <td>1</td>\n",
       "      <td>5</td>\n",
       "      <td>4</td>\n",
       "      <td>3</td>\n",
       "      <td>0</td>\n",
       "      <td>2.0</td>\n",
       "      <td>...</td>\n",
       "      <td>0.0</td>\n",
       "      <td>0.0</td>\n",
       "      <td>0.0</td>\n",
       "      <td>0.0</td>\n",
       "      <td>0.0</td>\n",
       "      <td>0.0</td>\n",
       "      <td>0.0</td>\n",
       "      <td>0.0</td>\n",
       "      <td>0.0</td>\n",
       "      <td>0.0</td>\n",
       "    </tr>\n",
       "  </tbody>\n",
       "</table>\n",
       "<p>5 rows × 195 columns</p>\n",
       "</div>"
      ],
      "text/plain": [
       "   ALTERSKATEGORIE_GROB  ANREDE_KZ  FINANZ_MINIMALIST  FINANZ_SPARER  \\\n",
       "1                   1.0          2                  1              5   \n",
       "2                   3.0          2                  1              4   \n",
       "4                   3.0          1                  4              3   \n",
       "5                   1.0          2                  3              1   \n",
       "6                   2.0          2                  1              5   \n",
       "\n",
       "   FINANZ_VORSORGER  FINANZ_ANLEGER  FINANZ_UNAUFFAELLIGER  FINANZ_HAUSBAUER  \\\n",
       "1                 2               5                      4                 5   \n",
       "2                 1               2                      3                 5   \n",
       "4                 4               1                      3                 2   \n",
       "5                 5               2                      2                 5   \n",
       "6                 1               5                      4                 3   \n",
       "\n",
       "   GREEN_AVANTGARDE  HEALTH_TYP        ...          CAMEO_DEU_2015_7E  \\\n",
       "1                 0         3.0        ...                        0.0   \n",
       "2                 1         3.0        ...                        0.0   \n",
       "4                 0         3.0        ...                        0.0   \n",
       "5                 0         3.0        ...                        0.0   \n",
       "6                 0         2.0        ...                        0.0   \n",
       "\n",
       "   CAMEO_DEU_2015_8A  CAMEO_DEU_2015_8B  CAMEO_DEU_2015_8C  CAMEO_DEU_2015_8D  \\\n",
       "1                1.0                0.0                0.0                0.0   \n",
       "2                0.0                0.0                0.0                0.0   \n",
       "4                0.0                0.0                0.0                0.0   \n",
       "5                0.0                0.0                1.0                0.0   \n",
       "6                0.0                0.0                0.0                0.0   \n",
       "\n",
       "   CAMEO_DEU_2015_9A  CAMEO_DEU_2015_9B  CAMEO_DEU_2015_9C  CAMEO_DEU_2015_9D  \\\n",
       "1                0.0                0.0                0.0                0.0   \n",
       "2                0.0                0.0                0.0                0.0   \n",
       "4                0.0                0.0                0.0                0.0   \n",
       "5                0.0                0.0                0.0                0.0   \n",
       "6                0.0                0.0                0.0                0.0   \n",
       "\n",
       "   CAMEO_DEU_2015_9E  \n",
       "1                0.0  \n",
       "2                0.0  \n",
       "4                0.0  \n",
       "5                0.0  \n",
       "6                0.0  \n",
       "\n",
       "[5 rows x 195 columns]"
      ]
     },
     "execution_count": 25,
     "metadata": {},
     "output_type": "execute_result"
    }
   ],
   "source": [
    "# merge into new dataframe\n",
    "azdias_subset1 = azdias_subset1.drop(feat_info.loc[list_of_reencode, 'attribute'].tolist(), axis=1)\n",
    "azdias_subset1 = pd.concat([azdias_subset1, azdias_onehot], axis=1)\n",
    "azdias_subset1.head()"
   ]
  },
  {
   "cell_type": "markdown",
   "metadata": {},
   "source": [
    "#### Discussion 1.2.1: Re-Encode Categorical Features\n",
    "\n",
    "(Double-click this cell and replace this text with your own text, reporting your findings and decisions regarding categorical features. Which ones did you keep, which did you drop, and what engineering steps did you perform?)\n",
    "\n",
    "First, I identified, among the categorical features, those needed to be reencoded. They are mostly multi-level categorical features with one extra binary feature where its values are strings. Then I converted values in these features into integer numbers. \n",
    "\n",
    "I decided to keep all of these features to be reencoded, as data points selected have zero/near zero missing values in them. The final step is to apply get_dummies() function in pandas to reencode the values in the selected features."
   ]
  },
  {
   "cell_type": "markdown",
   "metadata": {},
   "source": [
    "#### Step 1.2.2: Engineer Mixed-Type Features\n",
    "\n",
    "There are a handful of features that are marked as \"mixed\" in the feature summary that require special treatment in order to be included in the analysis. There are two in particular that deserve attention; the handling of the rest are up to your own choices:\n",
    "- \"PRAEGENDE_JUGENDJAHRE\" combines information on three dimensions: generation by decade, movement (mainstream vs. avantgarde), and nation (east vs. west). While there aren't enough levels to disentangle east from west, you should create two new variables to capture the other two dimensions: an interval-type variable for decade, and a binary variable for movement.\n",
    "- \"CAMEO_INTL_2015\" combines information on two axes: wealth and life stage. Break up the two-digit codes by their 'tens'-place and 'ones'-place digits into two new ordinal variables (which, for the purposes of this project, is equivalent to just treating them as their raw numeric values).\n",
    "- If you decide to keep or engineer new features around the other mixed-type features, make sure you note your steps in the Discussion section.\n",
    "\n",
    "Be sure to check `Data_Dictionary.md` for the details needed to finish these tasks."
   ]
  },
  {
   "cell_type": "code",
   "execution_count": 26,
   "metadata": {},
   "outputs": [
    {
     "name": "stdout",
     "output_type": "stream",
     "text": [
      "Features of mixed type ['LP_LEBENSPHASE_FEIN', 'LP_LEBENSPHASE_GROB', 'PRAEGENDE_JUGENDJAHRE', 'WOHNLAGE', 'CAMEO_INTL_2015', 'PLZ8_BAUMAX']\n"
     ]
    }
   ],
   "source": [
    "list_mixed_labels = list(feat_info.loc[feat_info['type']=='mixed', 'attribute'])\n",
    "print('Features of mixed type', list_mixed_labels)"
   ]
  },
  {
   "cell_type": "code",
   "execution_count": 27,
   "metadata": {},
   "outputs": [
    {
     "data": {
      "text/html": [
       "<div>\n",
       "<style>\n",
       "    .dataframe thead tr:only-child th {\n",
       "        text-align: right;\n",
       "    }\n",
       "\n",
       "    .dataframe thead th {\n",
       "        text-align: left;\n",
       "    }\n",
       "\n",
       "    .dataframe tbody tr th {\n",
       "        vertical-align: top;\n",
       "    }\n",
       "</style>\n",
       "<table border=\"1\" class=\"dataframe\">\n",
       "  <thead>\n",
       "    <tr style=\"text-align: right;\">\n",
       "      <th></th>\n",
       "      <th>ALTERSKATEGORIE_GROB</th>\n",
       "      <th>ANREDE_KZ</th>\n",
       "      <th>FINANZ_MINIMALIST</th>\n",
       "      <th>FINANZ_SPARER</th>\n",
       "      <th>FINANZ_VORSORGER</th>\n",
       "      <th>FINANZ_ANLEGER</th>\n",
       "      <th>FINANZ_UNAUFFAELLIGER</th>\n",
       "      <th>FINANZ_HAUSBAUER</th>\n",
       "      <th>GREEN_AVANTGARDE</th>\n",
       "      <th>HEALTH_TYP</th>\n",
       "      <th>...</th>\n",
       "      <th>CAMEO_DEU_2015_8B</th>\n",
       "      <th>CAMEO_DEU_2015_8C</th>\n",
       "      <th>CAMEO_DEU_2015_8D</th>\n",
       "      <th>CAMEO_DEU_2015_9A</th>\n",
       "      <th>CAMEO_DEU_2015_9B</th>\n",
       "      <th>CAMEO_DEU_2015_9C</th>\n",
       "      <th>CAMEO_DEU_2015_9D</th>\n",
       "      <th>CAMEO_DEU_2015_9E</th>\n",
       "      <th>YOUTH_MOVEMENT_DECADE</th>\n",
       "      <th>YOUTH_MOVEMENT_MAINSTREAM</th>\n",
       "    </tr>\n",
       "  </thead>\n",
       "  <tbody>\n",
       "    <tr>\n",
       "      <th>1</th>\n",
       "      <td>1.0</td>\n",
       "      <td>2</td>\n",
       "      <td>1</td>\n",
       "      <td>5</td>\n",
       "      <td>2</td>\n",
       "      <td>5</td>\n",
       "      <td>4</td>\n",
       "      <td>5</td>\n",
       "      <td>0</td>\n",
       "      <td>3.0</td>\n",
       "      <td>...</td>\n",
       "      <td>0.0</td>\n",
       "      <td>0.0</td>\n",
       "      <td>0.0</td>\n",
       "      <td>0.0</td>\n",
       "      <td>0.0</td>\n",
       "      <td>0.0</td>\n",
       "      <td>0.0</td>\n",
       "      <td>0.0</td>\n",
       "      <td>90</td>\n",
       "      <td>1</td>\n",
       "    </tr>\n",
       "    <tr>\n",
       "      <th>2</th>\n",
       "      <td>3.0</td>\n",
       "      <td>2</td>\n",
       "      <td>1</td>\n",
       "      <td>4</td>\n",
       "      <td>1</td>\n",
       "      <td>2</td>\n",
       "      <td>3</td>\n",
       "      <td>5</td>\n",
       "      <td>1</td>\n",
       "      <td>3.0</td>\n",
       "      <td>...</td>\n",
       "      <td>0.0</td>\n",
       "      <td>0.0</td>\n",
       "      <td>0.0</td>\n",
       "      <td>0.0</td>\n",
       "      <td>0.0</td>\n",
       "      <td>0.0</td>\n",
       "      <td>0.0</td>\n",
       "      <td>0.0</td>\n",
       "      <td>90</td>\n",
       "      <td>0</td>\n",
       "    </tr>\n",
       "    <tr>\n",
       "      <th>4</th>\n",
       "      <td>3.0</td>\n",
       "      <td>1</td>\n",
       "      <td>4</td>\n",
       "      <td>3</td>\n",
       "      <td>4</td>\n",
       "      <td>1</td>\n",
       "      <td>3</td>\n",
       "      <td>2</td>\n",
       "      <td>0</td>\n",
       "      <td>3.0</td>\n",
       "      <td>...</td>\n",
       "      <td>0.0</td>\n",
       "      <td>0.0</td>\n",
       "      <td>0.0</td>\n",
       "      <td>0.0</td>\n",
       "      <td>0.0</td>\n",
       "      <td>0.0</td>\n",
       "      <td>0.0</td>\n",
       "      <td>0.0</td>\n",
       "      <td>70</td>\n",
       "      <td>1</td>\n",
       "    </tr>\n",
       "    <tr>\n",
       "      <th>5</th>\n",
       "      <td>1.0</td>\n",
       "      <td>2</td>\n",
       "      <td>3</td>\n",
       "      <td>1</td>\n",
       "      <td>5</td>\n",
       "      <td>2</td>\n",
       "      <td>2</td>\n",
       "      <td>5</td>\n",
       "      <td>0</td>\n",
       "      <td>3.0</td>\n",
       "      <td>...</td>\n",
       "      <td>0.0</td>\n",
       "      <td>1.0</td>\n",
       "      <td>0.0</td>\n",
       "      <td>0.0</td>\n",
       "      <td>0.0</td>\n",
       "      <td>0.0</td>\n",
       "      <td>0.0</td>\n",
       "      <td>0.0</td>\n",
       "      <td>50</td>\n",
       "      <td>1</td>\n",
       "    </tr>\n",
       "    <tr>\n",
       "      <th>6</th>\n",
       "      <td>2.0</td>\n",
       "      <td>2</td>\n",
       "      <td>1</td>\n",
       "      <td>5</td>\n",
       "      <td>1</td>\n",
       "      <td>5</td>\n",
       "      <td>4</td>\n",
       "      <td>3</td>\n",
       "      <td>0</td>\n",
       "      <td>2.0</td>\n",
       "      <td>...</td>\n",
       "      <td>0.0</td>\n",
       "      <td>0.0</td>\n",
       "      <td>0.0</td>\n",
       "      <td>0.0</td>\n",
       "      <td>0.0</td>\n",
       "      <td>0.0</td>\n",
       "      <td>0.0</td>\n",
       "      <td>0.0</td>\n",
       "      <td>80</td>\n",
       "      <td>1</td>\n",
       "    </tr>\n",
       "  </tbody>\n",
       "</table>\n",
       "<p>5 rows × 196 columns</p>\n",
       "</div>"
      ],
      "text/plain": [
       "   ALTERSKATEGORIE_GROB  ANREDE_KZ  FINANZ_MINIMALIST  FINANZ_SPARER  \\\n",
       "1                   1.0          2                  1              5   \n",
       "2                   3.0          2                  1              4   \n",
       "4                   3.0          1                  4              3   \n",
       "5                   1.0          2                  3              1   \n",
       "6                   2.0          2                  1              5   \n",
       "\n",
       "   FINANZ_VORSORGER  FINANZ_ANLEGER  FINANZ_UNAUFFAELLIGER  FINANZ_HAUSBAUER  \\\n",
       "1                 2               5                      4                 5   \n",
       "2                 1               2                      3                 5   \n",
       "4                 4               1                      3                 2   \n",
       "5                 5               2                      2                 5   \n",
       "6                 1               5                      4                 3   \n",
       "\n",
       "   GREEN_AVANTGARDE  HEALTH_TYP            ...              CAMEO_DEU_2015_8B  \\\n",
       "1                 0         3.0            ...                            0.0   \n",
       "2                 1         3.0            ...                            0.0   \n",
       "4                 0         3.0            ...                            0.0   \n",
       "5                 0         3.0            ...                            0.0   \n",
       "6                 0         2.0            ...                            0.0   \n",
       "\n",
       "   CAMEO_DEU_2015_8C  CAMEO_DEU_2015_8D  CAMEO_DEU_2015_9A  CAMEO_DEU_2015_9B  \\\n",
       "1                0.0                0.0                0.0                0.0   \n",
       "2                0.0                0.0                0.0                0.0   \n",
       "4                0.0                0.0                0.0                0.0   \n",
       "5                1.0                0.0                0.0                0.0   \n",
       "6                0.0                0.0                0.0                0.0   \n",
       "\n",
       "   CAMEO_DEU_2015_9C  CAMEO_DEU_2015_9D  CAMEO_DEU_2015_9E  \\\n",
       "1                0.0                0.0                0.0   \n",
       "2                0.0                0.0                0.0   \n",
       "4                0.0                0.0                0.0   \n",
       "5                0.0                0.0                0.0   \n",
       "6                0.0                0.0                0.0   \n",
       "\n",
       "   YOUTH_MOVEMENT_DECADE  YOUTH_MOVEMENT_MAINSTREAM  \n",
       "1                     90                          1  \n",
       "2                     90                          0  \n",
       "4                     70                          1  \n",
       "5                     50                          1  \n",
       "6                     80                          1  \n",
       "\n",
       "[5 rows x 196 columns]"
      ]
     },
     "execution_count": 27,
     "metadata": {},
     "output_type": "execute_result"
    }
   ],
   "source": [
    "# Investigate \"PRAEGENDE_JUGENDJAHRE\" and engineer two new variables.\n",
    "def getDecadeInfo(x):\n",
    "    if x<=2:\n",
    "        return 40\n",
    "    elif x>=3 and x<=4:\n",
    "        return 50\n",
    "    elif x>=5 and x<=7:\n",
    "        return 60\n",
    "    elif x>=8 and x<=9:\n",
    "        return 70\n",
    "    elif x>=10 and x<=13:\n",
    "        return 80\n",
    "    return 90\n",
    "\n",
    "def isMainStream(x):\n",
    "    if x in [1,3,5,8,10,12,14]:\n",
    "        return 1\n",
    "    return 0\n",
    "\n",
    "azdias_subset1['YOUTH_MOVEMENT_DECADE'] = azdias_subset1['PRAEGENDE_JUGENDJAHRE'].apply(getDecadeInfo)\n",
    "azdias_subset1['YOUTH_MOVEMENT_MAINSTREAM'] = azdias_subset1['PRAEGENDE_JUGENDJAHRE'].apply(isMainStream)\n",
    "azdias_subset1.drop('PRAEGENDE_JUGENDJAHRE', axis=1, inplace=True)\n",
    "azdias_subset1.head()"
   ]
  },
  {
   "cell_type": "code",
   "execution_count": 28,
   "metadata": {},
   "outputs": [
    {
     "data": {
      "text/html": [
       "<div>\n",
       "<style>\n",
       "    .dataframe thead tr:only-child th {\n",
       "        text-align: right;\n",
       "    }\n",
       "\n",
       "    .dataframe thead th {\n",
       "        text-align: left;\n",
       "    }\n",
       "\n",
       "    .dataframe tbody tr th {\n",
       "        vertical-align: top;\n",
       "    }\n",
       "</style>\n",
       "<table border=\"1\" class=\"dataframe\">\n",
       "  <thead>\n",
       "    <tr style=\"text-align: right;\">\n",
       "      <th></th>\n",
       "      <th>ALTERSKATEGORIE_GROB</th>\n",
       "      <th>ANREDE_KZ</th>\n",
       "      <th>FINANZ_MINIMALIST</th>\n",
       "      <th>FINANZ_SPARER</th>\n",
       "      <th>FINANZ_VORSORGER</th>\n",
       "      <th>FINANZ_ANLEGER</th>\n",
       "      <th>FINANZ_UNAUFFAELLIGER</th>\n",
       "      <th>FINANZ_HAUSBAUER</th>\n",
       "      <th>GREEN_AVANTGARDE</th>\n",
       "      <th>HEALTH_TYP</th>\n",
       "      <th>...</th>\n",
       "      <th>CAMEO_DEU_2015_8D</th>\n",
       "      <th>CAMEO_DEU_2015_9A</th>\n",
       "      <th>CAMEO_DEU_2015_9B</th>\n",
       "      <th>CAMEO_DEU_2015_9C</th>\n",
       "      <th>CAMEO_DEU_2015_9D</th>\n",
       "      <th>CAMEO_DEU_2015_9E</th>\n",
       "      <th>YOUTH_MOVEMENT_DECADE</th>\n",
       "      <th>YOUTH_MOVEMENT_MAINSTREAM</th>\n",
       "      <th>WEALTH_LEVEL</th>\n",
       "      <th>LIFE_STAGE_LEVEL</th>\n",
       "    </tr>\n",
       "  </thead>\n",
       "  <tbody>\n",
       "    <tr>\n",
       "      <th>1</th>\n",
       "      <td>1.0</td>\n",
       "      <td>2</td>\n",
       "      <td>1</td>\n",
       "      <td>5</td>\n",
       "      <td>2</td>\n",
       "      <td>5</td>\n",
       "      <td>4</td>\n",
       "      <td>5</td>\n",
       "      <td>0</td>\n",
       "      <td>3.0</td>\n",
       "      <td>...</td>\n",
       "      <td>0.0</td>\n",
       "      <td>0.0</td>\n",
       "      <td>0.0</td>\n",
       "      <td>0.0</td>\n",
       "      <td>0.0</td>\n",
       "      <td>0.0</td>\n",
       "      <td>90</td>\n",
       "      <td>1</td>\n",
       "      <td>5</td>\n",
       "      <td>1</td>\n",
       "    </tr>\n",
       "    <tr>\n",
       "      <th>2</th>\n",
       "      <td>3.0</td>\n",
       "      <td>2</td>\n",
       "      <td>1</td>\n",
       "      <td>4</td>\n",
       "      <td>1</td>\n",
       "      <td>2</td>\n",
       "      <td>3</td>\n",
       "      <td>5</td>\n",
       "      <td>1</td>\n",
       "      <td>3.0</td>\n",
       "      <td>...</td>\n",
       "      <td>0.0</td>\n",
       "      <td>0.0</td>\n",
       "      <td>0.0</td>\n",
       "      <td>0.0</td>\n",
       "      <td>0.0</td>\n",
       "      <td>0.0</td>\n",
       "      <td>90</td>\n",
       "      <td>0</td>\n",
       "      <td>2</td>\n",
       "      <td>4</td>\n",
       "    </tr>\n",
       "    <tr>\n",
       "      <th>4</th>\n",
       "      <td>3.0</td>\n",
       "      <td>1</td>\n",
       "      <td>4</td>\n",
       "      <td>3</td>\n",
       "      <td>4</td>\n",
       "      <td>1</td>\n",
       "      <td>3</td>\n",
       "      <td>2</td>\n",
       "      <td>0</td>\n",
       "      <td>3.0</td>\n",
       "      <td>...</td>\n",
       "      <td>0.0</td>\n",
       "      <td>0.0</td>\n",
       "      <td>0.0</td>\n",
       "      <td>0.0</td>\n",
       "      <td>0.0</td>\n",
       "      <td>0.0</td>\n",
       "      <td>70</td>\n",
       "      <td>1</td>\n",
       "      <td>4</td>\n",
       "      <td>3</td>\n",
       "    </tr>\n",
       "    <tr>\n",
       "      <th>5</th>\n",
       "      <td>1.0</td>\n",
       "      <td>2</td>\n",
       "      <td>3</td>\n",
       "      <td>1</td>\n",
       "      <td>5</td>\n",
       "      <td>2</td>\n",
       "      <td>2</td>\n",
       "      <td>5</td>\n",
       "      <td>0</td>\n",
       "      <td>3.0</td>\n",
       "      <td>...</td>\n",
       "      <td>0.0</td>\n",
       "      <td>0.0</td>\n",
       "      <td>0.0</td>\n",
       "      <td>0.0</td>\n",
       "      <td>0.0</td>\n",
       "      <td>0.0</td>\n",
       "      <td>50</td>\n",
       "      <td>1</td>\n",
       "      <td>5</td>\n",
       "      <td>4</td>\n",
       "    </tr>\n",
       "    <tr>\n",
       "      <th>6</th>\n",
       "      <td>2.0</td>\n",
       "      <td>2</td>\n",
       "      <td>1</td>\n",
       "      <td>5</td>\n",
       "      <td>1</td>\n",
       "      <td>5</td>\n",
       "      <td>4</td>\n",
       "      <td>3</td>\n",
       "      <td>0</td>\n",
       "      <td>2.0</td>\n",
       "      <td>...</td>\n",
       "      <td>0.0</td>\n",
       "      <td>0.0</td>\n",
       "      <td>0.0</td>\n",
       "      <td>0.0</td>\n",
       "      <td>0.0</td>\n",
       "      <td>0.0</td>\n",
       "      <td>80</td>\n",
       "      <td>1</td>\n",
       "      <td>2</td>\n",
       "      <td>2</td>\n",
       "    </tr>\n",
       "  </tbody>\n",
       "</table>\n",
       "<p>5 rows × 197 columns</p>\n",
       "</div>"
      ],
      "text/plain": [
       "   ALTERSKATEGORIE_GROB  ANREDE_KZ  FINANZ_MINIMALIST  FINANZ_SPARER  \\\n",
       "1                   1.0          2                  1              5   \n",
       "2                   3.0          2                  1              4   \n",
       "4                   3.0          1                  4              3   \n",
       "5                   1.0          2                  3              1   \n",
       "6                   2.0          2                  1              5   \n",
       "\n",
       "   FINANZ_VORSORGER  FINANZ_ANLEGER  FINANZ_UNAUFFAELLIGER  FINANZ_HAUSBAUER  \\\n",
       "1                 2               5                      4                 5   \n",
       "2                 1               2                      3                 5   \n",
       "4                 4               1                      3                 2   \n",
       "5                 5               2                      2                 5   \n",
       "6                 1               5                      4                 3   \n",
       "\n",
       "   GREEN_AVANTGARDE  HEALTH_TYP        ...         CAMEO_DEU_2015_8D  \\\n",
       "1                 0         3.0        ...                       0.0   \n",
       "2                 1         3.0        ...                       0.0   \n",
       "4                 0         3.0        ...                       0.0   \n",
       "5                 0         3.0        ...                       0.0   \n",
       "6                 0         2.0        ...                       0.0   \n",
       "\n",
       "   CAMEO_DEU_2015_9A  CAMEO_DEU_2015_9B  CAMEO_DEU_2015_9C  CAMEO_DEU_2015_9D  \\\n",
       "1                0.0                0.0                0.0                0.0   \n",
       "2                0.0                0.0                0.0                0.0   \n",
       "4                0.0                0.0                0.0                0.0   \n",
       "5                0.0                0.0                0.0                0.0   \n",
       "6                0.0                0.0                0.0                0.0   \n",
       "\n",
       "   CAMEO_DEU_2015_9E  YOUTH_MOVEMENT_DECADE  YOUTH_MOVEMENT_MAINSTREAM  \\\n",
       "1                0.0                     90                          1   \n",
       "2                0.0                     90                          0   \n",
       "4                0.0                     70                          1   \n",
       "5                0.0                     50                          1   \n",
       "6                0.0                     80                          1   \n",
       "\n",
       "   WEALTH_LEVEL  LIFE_STAGE_LEVEL  \n",
       "1             5                 1  \n",
       "2             2                 4  \n",
       "4             4                 3  \n",
       "5             5                 4  \n",
       "6             2                 2  \n",
       "\n",
       "[5 rows x 197 columns]"
      ]
     },
     "execution_count": 28,
     "metadata": {},
     "output_type": "execute_result"
    }
   ],
   "source": [
    "# Investigate \"CAMEO_INTL_2015\" and engineer two new variables.\n",
    "def getWealth(x):\n",
    "    return int(int(x)/10)\n",
    "\n",
    "def getLifeStage(x):\n",
    "    return int(x)%10\n",
    "\n",
    "azdias_subset1['WEALTH_LEVEL'] = azdias_subset1['CAMEO_INTL_2015'].apply(getWealth)\n",
    "azdias_subset1['LIFE_STAGE_LEVEL'] = azdias_subset1['CAMEO_INTL_2015'].apply(getLifeStage)\n",
    "azdias_subset1.drop('CAMEO_INTL_2015', axis=1, inplace=True)\n",
    "azdias_subset1.head()\n"
   ]
  },
  {
   "cell_type": "code",
   "execution_count": 29,
   "metadata": {},
   "outputs": [],
   "source": [
    "# 'LP_LEBENSPHASE_FEIN'\n"
   ]
  },
  {
   "cell_type": "code",
   "execution_count": 30,
   "metadata": {},
   "outputs": [],
   "source": [
    "# 'LP_LEBENSPHASE_GROB'"
   ]
  },
  {
   "cell_type": "code",
   "execution_count": 31,
   "metadata": {},
   "outputs": [],
   "source": [
    "# 'WOHNLAGE'"
   ]
  },
  {
   "cell_type": "code",
   "execution_count": 32,
   "metadata": {},
   "outputs": [],
   "source": [
    "# 'PLZ8_BAUMAX'"
   ]
  },
  {
   "cell_type": "markdown",
   "metadata": {},
   "source": [
    "#### Discussion 1.2.2: Engineer Mixed-Type Features\n",
    "\n",
    "(Double-click this cell and replace this text with your own text, reporting your findings and decisions regarding mixed-value features. Which ones did you keep, which did you drop, and what engineering steps did you perform?)\n",
    "\n",
    "Investigation into feature \"PRAEGENDE_JUGENDJAHRE\" leads to a separation of the information into two sub features: one is the timeline \"decade\" of the youth movement, the other one is whether it is mainstream or not. Similarly the feature \"CAMEO_INTL_2015\" could be divided into two sub features: one is the wealth level and the other is the life stage. Both divisions of these two mixed type feature will lead to a clearer description of the demographic data.\n",
    "\n",
    "The technical operations would be creating new columns/features, they are ['YOUTH_MOVEMENT_DECADE', 'YOUTH_MOVEMENT_MAINSTREAM', 'WEALTH_LEVEL', 'LIFE_STAGE_LEVEL'], in the dataframe and delete the original ones(\"PRAEGENDE_JUGENDJAHRE\", \"CAMEO_INTL_2015\"). In this way, the whole dataset would be expanded accordingly."
   ]
  },
  {
   "cell_type": "markdown",
   "metadata": {},
   "source": [
    "#### Step 1.2.3: Complete Feature Selection\n",
    "\n",
    "In order to finish this step up, you need to make sure that your data frame now only has the columns that you want to keep. To summarize, the dataframe should consist of the following:\n",
    "- All numeric, interval, and ordinal type columns from the original dataset.\n",
    "- Binary categorical features (all numerically-encoded).\n",
    "- Engineered features from other multi-level categorical features and mixed features.\n",
    "\n",
    "Make sure that for any new columns that you have engineered, that you've excluded the original columns from the final dataset. Otherwise, their values will interfere with the analysis later on the project. For example, you should not keep \"PRAEGENDE_JUGENDJAHRE\", since its values won't be useful for the algorithm: only the values derived from it in the engineered features you created should be retained. As a reminder, your data should only be from **the subset with few or no missing values**."
   ]
  },
  {
   "cell_type": "code",
   "execution_count": 33,
   "metadata": {},
   "outputs": [],
   "source": [
    "# If there are other re-engineering tasks you need to perform, make sure you\n",
    "# take care of them here. (Dealing with missing data will come in step 2.1.)\n",
    "\n",
    "# None"
   ]
  },
  {
   "cell_type": "code",
   "execution_count": 34,
   "metadata": {},
   "outputs": [],
   "source": [
    "# Do whatever you need to in order to ensure that the dataframe only contains\n",
    "# the columns that should be passed to the algorithm functions.\n",
    "\n",
    "# None"
   ]
  },
  {
   "cell_type": "markdown",
   "metadata": {},
   "source": [
    "### Step 1.3: Create a Cleaning Function\n",
    "\n",
    "Even though you've finished cleaning up the general population demographics data, it's important to look ahead to the future and realize that you'll need to perform the same cleaning steps on the customer demographics data. In this substep, complete the function below to execute the main feature selection, encoding, and re-engineering steps you performed above. Then, when it comes to looking at the customer data in Step 3, you can just run this function on that DataFrame to get the trimmed dataset in a single step."
   ]
  },
  {
   "cell_type": "code",
   "execution_count": 35,
   "metadata": {},
   "outputs": [],
   "source": [
    "def clean_data(df):\n",
    "    \"\"\"\n",
    "    Perform feature trimming, re-encoding, and engineering for demographics\n",
    "    data\n",
    "    \n",
    "    INPUT: Demographics DataFrame\n",
    "    OUTPUT: Trimmed and cleaned demographics DataFrame\n",
    "    \"\"\"\n",
    "    \n",
    "    # Put in code here to execute all main cleaning steps:\n",
    "    # convert missing value codes into NaNs, ...\n",
    "    temp_feat_info = pd.read_csv('AZDIAS_Feature_Summary.csv', sep=';')\n",
    "\n",
    "    for i, label in zip(list(temp_feat_info.index.values), list(df.columns.values)):\n",
    "        list_of_nans = [x for x in temp_feat_info.loc[i, 'missing_or_unknown'][1:-1].split(',') if x]\n",
    "        # convert string to int if applicable\n",
    "        for j in range(len(list_of_nans)):\n",
    "            if check_int(list_of_nans[j]):\n",
    "                list_of_nans[j] = int(list_of_nans[j])\n",
    "                pass\n",
    "            pass\n",
    "        # replace missing/unknown values with NaN\n",
    "        if list_of_nans:\n",
    "            df[label].replace(to_replace=list_of_nans, value=np.nan, inplace=True)\n",
    "        pass    \n",
    "    \n",
    "    # remove selected columns and rows, ...\n",
    "    df = df.drop(features_to_remove, axis=1) # axis 1: column\n",
    "\n",
    "    temp_feat_info = temp_feat_info.drop(index_to_remove, axis=0) # axis 0: row\n",
    "\n",
    "    missing_data_per_row = df.isnull().sum(axis=1)\n",
    "\n",
    "    list_of_rows_below_thresh = []\n",
    "\n",
    "    for i in range(len(missing_data_per_row)):\n",
    "        if thresh_row >= missing_data_per_row[i]:\n",
    "            list_of_rows_below_thresh.append(i)\n",
    "            pass\n",
    "        pass\n",
    "\n",
    "    df = df.iloc[list_of_rows_below_thresh, :]\n",
    "    \n",
    "    # select, re-encode, and engineer column values.\n",
    "    for cat_idx in list_of_reencode:\n",
    "        label = temp_feat_info.loc[cat_idx, 'attribute']\n",
    "        array_of_uniques = reencode_map[label] # use the previous map\n",
    "        for i, x in enumerate(array_of_uniques):\n",
    "            df.loc[df[label]==x, label] = i\n",
    "            pass\n",
    "        pass\n",
    "    \n",
    "    # one hot encoding\n",
    "    #df = pd.get_dummies(df, columns=list(temp_feat_info.loc[list_of_reencode, 'attribute']))\n",
    "    df_reencode = df[temp_feat_info.loc[list_of_reencode, 'attribute']]\n",
    "\n",
    "    reencoded_data = enc_one.transform(df_reencode)\n",
    "    df_onehot = pd.DataFrame(reencoded_data.toarray(),\n",
    "                             index=df_reencode.index,    \n",
    "                             columns=list_of_One_Hot_Encoded_Features)\n",
    "\n",
    "    df = df.drop(temp_feat_info.loc[list_of_reencode, 'attribute'].tolist(), axis=1)\n",
    "    df = pd.concat([df, df_onehot], axis=1)    \n",
    "    \n",
    "    #print('number of features after onehotencoding:', df.shape[1])\n",
    "\n",
    "    # mixed type\n",
    "    df['YOUTH_MOVEMENT_DECADE'] = df['PRAEGENDE_JUGENDJAHRE'].apply(getDecadeInfo)\n",
    "    df['YOUTH_MOVEMENT_MAINSTREAM'] = df['PRAEGENDE_JUGENDJAHRE'].apply(isMainStream)\n",
    "    df.drop('PRAEGENDE_JUGENDJAHRE', axis=1, inplace=True)\n",
    "\n",
    "    df['WEALTH_LEVEL'] = df['CAMEO_INTL_2015'].apply(getWealth)\n",
    "    df['LIFE_STAGE_LEVEL'] = df['CAMEO_INTL_2015'].apply(getLifeStage)\n",
    "    df.drop('CAMEO_INTL_2015', axis=1, inplace=True)    \n",
    "    # Return the cleaned dataframe.\n",
    "    return df\n",
    "    \n",
    "    "
   ]
  },
  {
   "cell_type": "markdown",
   "metadata": {},
   "source": [
    "## Step 2: Feature Transformation\n",
    "\n",
    "### Step 2.1: Apply Feature Scaling\n",
    "\n",
    "Before we apply dimensionality reduction techniques to the data, we need to perform feature scaling so that the principal component vectors are not influenced by the natural differences in scale for features. Starting from this part of the project, you'll want to keep an eye on the [API reference page for sklearn](http://scikit-learn.org/stable/modules/classes.html) to help you navigate to all of the classes and functions that you'll need. In this substep, you'll need to check the following:\n",
    "\n",
    "- sklearn requires that data not have missing values in order for its estimators to work properly. So, before applying the scaler to your data, make sure that you've cleaned the DataFrame of the remaining missing values. This can be as simple as just removing all data points with missing data, or applying an [Imputer](http://scikit-learn.org/stable/modules/generated/sklearn.preprocessing.Imputer.html) to replace all missing values. You might also try a more complicated procedure where you temporarily remove missing values in order to compute the scaling parameters before re-introducing those missing values and applying imputation. Think about how much missing data you have and what possible effects each approach might have on your analysis, and justify your decision in the discussion section below.\n",
    "- For the actual scaling function, a [StandardScaler](http://scikit-learn.org/stable/modules/generated/sklearn.preprocessing.StandardScaler.html) instance is suggested, scaling each feature to mean 0 and standard deviation 1.\n",
    "- For these classes, you can make use of the `.fit_transform()` method to both fit a procedure to the data as well as apply the transformation to the data at the same time. Don't forget to keep the fit sklearn objects handy, since you'll be applying them to the customer demographics data towards the end of the project."
   ]
  },
  {
   "cell_type": "code",
   "execution_count": 36,
   "metadata": {},
   "outputs": [
    {
     "name": "stdout",
     "output_type": "stream",
     "text": [
      "total number of NaN values BEFORE imputation: 9512\n",
      "total number of NaN values AFTER imputation: 0\n"
     ]
    }
   ],
   "source": [
    "# If you've not yet cleaned the dataset of all NaN values, then investigate and\n",
    "# do that now.\n",
    "\n",
    "print(\"total number of NaN values BEFORE imputation:\", np.sum(azdias_subset1.isnull().sum()))\n",
    "imp = preprocessing.Imputer(missing_values='NaN', strategy='most_frequent', axis=0) # axis=0: impute along columns\n",
    "azdias_subset1 = pd.DataFrame(imp.fit_transform(azdias_subset1),\n",
    "                              index=azdias_subset1.index,\n",
    "                              columns=azdias_subset1.columns)\n",
    "print(\"total number of NaN values AFTER imputation:\", np.sum(azdias_subset1.isnull().sum()))"
   ]
  },
  {
   "cell_type": "code",
   "execution_count": 37,
   "metadata": {},
   "outputs": [
    {
     "data": {
      "text/html": [
       "<div>\n",
       "<style>\n",
       "    .dataframe thead tr:only-child th {\n",
       "        text-align: right;\n",
       "    }\n",
       "\n",
       "    .dataframe thead th {\n",
       "        text-align: left;\n",
       "    }\n",
       "\n",
       "    .dataframe tbody tr th {\n",
       "        vertical-align: top;\n",
       "    }\n",
       "</style>\n",
       "<table border=\"1\" class=\"dataframe\">\n",
       "  <thead>\n",
       "    <tr style=\"text-align: right;\">\n",
       "      <th></th>\n",
       "      <th>ALTERSKATEGORIE_GROB</th>\n",
       "      <th>ANREDE_KZ</th>\n",
       "      <th>FINANZ_MINIMALIST</th>\n",
       "      <th>FINANZ_SPARER</th>\n",
       "      <th>FINANZ_VORSORGER</th>\n",
       "      <th>FINANZ_ANLEGER</th>\n",
       "      <th>FINANZ_UNAUFFAELLIGER</th>\n",
       "      <th>FINANZ_HAUSBAUER</th>\n",
       "      <th>GREEN_AVANTGARDE</th>\n",
       "      <th>HEALTH_TYP</th>\n",
       "      <th>...</th>\n",
       "      <th>CAMEO_DEU_2015_8D</th>\n",
       "      <th>CAMEO_DEU_2015_9A</th>\n",
       "      <th>CAMEO_DEU_2015_9B</th>\n",
       "      <th>CAMEO_DEU_2015_9C</th>\n",
       "      <th>CAMEO_DEU_2015_9D</th>\n",
       "      <th>CAMEO_DEU_2015_9E</th>\n",
       "      <th>YOUTH_MOVEMENT_DECADE</th>\n",
       "      <th>YOUTH_MOVEMENT_MAINSTREAM</th>\n",
       "      <th>WEALTH_LEVEL</th>\n",
       "      <th>LIFE_STAGE_LEVEL</th>\n",
       "    </tr>\n",
       "  </thead>\n",
       "  <tbody>\n",
       "    <tr>\n",
       "      <th>1</th>\n",
       "      <td>-1.746613</td>\n",
       "      <td>0.975715</td>\n",
       "      <td>-1.509099</td>\n",
       "      <td>1.580889</td>\n",
       "      <td>-1.052775</td>\n",
       "      <td>1.537348</td>\n",
       "      <td>1.049672</td>\n",
       "      <td>1.321727</td>\n",
       "      <td>-0.549004</td>\n",
       "      <td>1.053059</td>\n",
       "      <td>...</td>\n",
       "      <td>-0.157911</td>\n",
       "      <td>-0.165812</td>\n",
       "      <td>-0.19796</td>\n",
       "      <td>-0.185775</td>\n",
       "      <td>-0.197353</td>\n",
       "      <td>-0.084256</td>\n",
       "      <td>1.146029</td>\n",
       "      <td>0.564022</td>\n",
       "      <td>1.140898</td>\n",
       "      <td>-1.248656</td>\n",
       "    </tr>\n",
       "    <tr>\n",
       "      <th>2</th>\n",
       "      <td>0.193103</td>\n",
       "      <td>0.975715</td>\n",
       "      <td>-1.509099</td>\n",
       "      <td>0.902592</td>\n",
       "      <td>-1.772863</td>\n",
       "      <td>-0.526093</td>\n",
       "      <td>0.321755</td>\n",
       "      <td>1.321727</td>\n",
       "      <td>1.821481</td>\n",
       "      <td>1.053059</td>\n",
       "      <td>...</td>\n",
       "      <td>-0.157911</td>\n",
       "      <td>-0.165812</td>\n",
       "      <td>-0.19796</td>\n",
       "      <td>-0.185775</td>\n",
       "      <td>-0.197353</td>\n",
       "      <td>-0.084256</td>\n",
       "      <td>1.146029</td>\n",
       "      <td>-1.772982</td>\n",
       "      <td>-0.917835</td>\n",
       "      <td>0.749750</td>\n",
       "    </tr>\n",
       "    <tr>\n",
       "      <th>4</th>\n",
       "      <td>0.193103</td>\n",
       "      <td>-1.024889</td>\n",
       "      <td>0.697489</td>\n",
       "      <td>0.224296</td>\n",
       "      <td>0.387400</td>\n",
       "      <td>-1.213907</td>\n",
       "      <td>0.321755</td>\n",
       "      <td>-0.869498</td>\n",
       "      <td>-0.549004</td>\n",
       "      <td>1.053059</td>\n",
       "      <td>...</td>\n",
       "      <td>-0.157911</td>\n",
       "      <td>-0.165812</td>\n",
       "      <td>-0.19796</td>\n",
       "      <td>-0.185775</td>\n",
       "      <td>-0.197353</td>\n",
       "      <td>-0.084256</td>\n",
       "      <td>-0.227031</td>\n",
       "      <td>0.564022</td>\n",
       "      <td>0.454654</td>\n",
       "      <td>0.083615</td>\n",
       "    </tr>\n",
       "    <tr>\n",
       "      <th>5</th>\n",
       "      <td>-1.746613</td>\n",
       "      <td>0.975715</td>\n",
       "      <td>-0.038040</td>\n",
       "      <td>-1.132297</td>\n",
       "      <td>1.107488</td>\n",
       "      <td>-0.526093</td>\n",
       "      <td>-0.406163</td>\n",
       "      <td>1.321727</td>\n",
       "      <td>-0.549004</td>\n",
       "      <td>1.053059</td>\n",
       "      <td>...</td>\n",
       "      <td>-0.157911</td>\n",
       "      <td>-0.165812</td>\n",
       "      <td>-0.19796</td>\n",
       "      <td>-0.185775</td>\n",
       "      <td>-0.197353</td>\n",
       "      <td>-0.084256</td>\n",
       "      <td>-1.600092</td>\n",
       "      <td>0.564022</td>\n",
       "      <td>1.140898</td>\n",
       "      <td>0.749750</td>\n",
       "    </tr>\n",
       "    <tr>\n",
       "      <th>6</th>\n",
       "      <td>-0.776755</td>\n",
       "      <td>0.975715</td>\n",
       "      <td>-1.509099</td>\n",
       "      <td>1.580889</td>\n",
       "      <td>-1.772863</td>\n",
       "      <td>1.537348</td>\n",
       "      <td>1.049672</td>\n",
       "      <td>-0.139090</td>\n",
       "      <td>-0.549004</td>\n",
       "      <td>-0.267130</td>\n",
       "      <td>...</td>\n",
       "      <td>-0.157911</td>\n",
       "      <td>-0.165812</td>\n",
       "      <td>-0.19796</td>\n",
       "      <td>-0.185775</td>\n",
       "      <td>-0.197353</td>\n",
       "      <td>-0.084256</td>\n",
       "      <td>0.459499</td>\n",
       "      <td>0.564022</td>\n",
       "      <td>-0.917835</td>\n",
       "      <td>-0.582521</td>\n",
       "    </tr>\n",
       "  </tbody>\n",
       "</table>\n",
       "<p>5 rows × 197 columns</p>\n",
       "</div>"
      ],
      "text/plain": [
       "   ALTERSKATEGORIE_GROB  ANREDE_KZ  FINANZ_MINIMALIST  FINANZ_SPARER  \\\n",
       "1             -1.746613   0.975715          -1.509099       1.580889   \n",
       "2              0.193103   0.975715          -1.509099       0.902592   \n",
       "4              0.193103  -1.024889           0.697489       0.224296   \n",
       "5             -1.746613   0.975715          -0.038040      -1.132297   \n",
       "6             -0.776755   0.975715          -1.509099       1.580889   \n",
       "\n",
       "   FINANZ_VORSORGER  FINANZ_ANLEGER  FINANZ_UNAUFFAELLIGER  FINANZ_HAUSBAUER  \\\n",
       "1         -1.052775        1.537348               1.049672          1.321727   \n",
       "2         -1.772863       -0.526093               0.321755          1.321727   \n",
       "4          0.387400       -1.213907               0.321755         -0.869498   \n",
       "5          1.107488       -0.526093              -0.406163          1.321727   \n",
       "6         -1.772863        1.537348               1.049672         -0.139090   \n",
       "\n",
       "   GREEN_AVANTGARDE  HEALTH_TYP        ...         CAMEO_DEU_2015_8D  \\\n",
       "1         -0.549004    1.053059        ...                 -0.157911   \n",
       "2          1.821481    1.053059        ...                 -0.157911   \n",
       "4         -0.549004    1.053059        ...                 -0.157911   \n",
       "5         -0.549004    1.053059        ...                 -0.157911   \n",
       "6         -0.549004   -0.267130        ...                 -0.157911   \n",
       "\n",
       "   CAMEO_DEU_2015_9A  CAMEO_DEU_2015_9B  CAMEO_DEU_2015_9C  CAMEO_DEU_2015_9D  \\\n",
       "1          -0.165812           -0.19796          -0.185775          -0.197353   \n",
       "2          -0.165812           -0.19796          -0.185775          -0.197353   \n",
       "4          -0.165812           -0.19796          -0.185775          -0.197353   \n",
       "5          -0.165812           -0.19796          -0.185775          -0.197353   \n",
       "6          -0.165812           -0.19796          -0.185775          -0.197353   \n",
       "\n",
       "   CAMEO_DEU_2015_9E  YOUTH_MOVEMENT_DECADE  YOUTH_MOVEMENT_MAINSTREAM  \\\n",
       "1          -0.084256               1.146029                   0.564022   \n",
       "2          -0.084256               1.146029                  -1.772982   \n",
       "4          -0.084256              -0.227031                   0.564022   \n",
       "5          -0.084256              -1.600092                   0.564022   \n",
       "6          -0.084256               0.459499                   0.564022   \n",
       "\n",
       "   WEALTH_LEVEL  LIFE_STAGE_LEVEL  \n",
       "1      1.140898         -1.248656  \n",
       "2     -0.917835          0.749750  \n",
       "4      0.454654          0.083615  \n",
       "5      1.140898          0.749750  \n",
       "6     -0.917835         -0.582521  \n",
       "\n",
       "[5 rows x 197 columns]"
      ]
     },
     "execution_count": 37,
     "metadata": {},
     "output_type": "execute_result"
    }
   ],
   "source": [
    "# Apply feature scaling to the general population demographics data.\n",
    "\n",
    "std_scaler = preprocessing.StandardScaler(copy=False) # inplace replacement\n",
    "std_scaler.fit_transform(azdias_subset1)\n",
    "azdias_subset1.head()"
   ]
  },
  {
   "cell_type": "markdown",
   "metadata": {},
   "source": [
    "### Discussion 2.1: Apply Feature Scaling\n",
    "\n",
    "(Double-click this cell and replace this text with your own text, reporting your decisions regarding feature scaling.)\n",
    "\n",
    "First, exam how many NaNs are left in the dataset. Then do some imputation to fill NaNs with most frequently used value in each feature. Finally, perform standard scaling to the original dataset with inplace modification."
   ]
  },
  {
   "cell_type": "markdown",
   "metadata": {},
   "source": [
    "### Step 2.2: Perform Dimensionality Reduction\n",
    "\n",
    "On your scaled data, you are now ready to apply dimensionality reduction techniques.\n",
    "\n",
    "- Use sklearn's [PCA](http://scikit-learn.org/stable/modules/generated/sklearn.decomposition.PCA.html) class to apply principal component analysis on the data, thus finding the vectors of maximal variance in the data. To start, you should not set any parameters (so all components are computed) or set a number of components that is at least half the number of features (so there's enough features to see the general trend in variability).\n",
    "- Check out the ratio of variance explained by each principal component as well as the cumulative variance explained. Try plotting the cumulative or sequential values using matplotlib's [`plot()`](https://matplotlib.org/api/_as_gen/matplotlib.pyplot.plot.html) function. Based on what you find, select a value for the number of transformed features you'll retain for the clustering part of the project.\n",
    "- Once you've made a choice for the number of components to keep, make sure you re-fit a PCA instance to perform the decided-on transformation."
   ]
  },
  {
   "cell_type": "code",
   "execution_count": 38,
   "metadata": {},
   "outputs": [
    {
     "data": {
      "text/plain": [
       "PCA(copy=True, iterated_power='auto', n_components=None, random_state=None,\n",
       "  svd_solver='auto', tol=0.0, whiten=False)"
      ]
     },
     "execution_count": 38,
     "metadata": {},
     "output_type": "execute_result"
    }
   ],
   "source": [
    "# Apply PCA to the data.\n",
    "pca_model = PCA()\n",
    "\n",
    "pca_model.fit(azdias_subset1)"
   ]
  },
  {
   "cell_type": "code",
   "execution_count": 39,
   "metadata": {},
   "outputs": [
    {
     "data": {
      "image/png": "[encoded data removed]",
      "text/plain": [
       "<matplotlib.figure.Figure at 0x7fabb148c358>"
      ]
     },
     "metadata": {},
     "output_type": "display_data"
    },
    {
     "data": {
      "image/png": "[encoded data removed]",
      "text/plain": [
       "<matplotlib.figure.Figure at 0x7fabb147fc50>"
      ]
     },
     "metadata": {},
     "output_type": "display_data"
    }
   ],
   "source": [
    "# Investigate the variance accounted for by each principal component.\n",
    "var_exp = pca_model.explained_variance_ratio_.tolist()\n",
    "cum_var_exp = np.cumsum(var_exp)\n",
    "\n",
    "plt.bar(range(1, 1+len(var_exp)), var_exp, alpha=0.5, align='center', label='individual explained variance')\n",
    "plt.ylabel('Explained variance ratio')\n",
    "plt.xlabel('Principal components')\n",
    "plt.legend(loc='best')\n",
    "plt.show()\n",
    "\n",
    "plt.step(range(1, 1+len(var_exp)), cum_var_exp, where='mid', label='cumulative explained variance')\n",
    "plt.ylabel('Explained variance ratio')\n",
    "plt.xlabel('Principal components')\n",
    "plt.legend(loc='best')\n",
    "plt.show()"
   ]
  },
  {
   "cell_type": "code",
   "execution_count": 40,
   "metadata": {},
   "outputs": [
    {
     "name": "stdout",
     "output_type": "stream",
     "text": [
      "reduced dataset: number of data points 638947, number of features 50\n"
     ]
    }
   ],
   "source": [
    "# Re-apply PCA to the data while selecting for number of components to retain.\n",
    "\n",
    "n_component_to_retain = 50\n",
    "\n",
    "pca_model_reduce = PCA(n_component_to_retain)\n",
    "\n",
    "azdias_subset1_reduce = pca_model_reduce.fit_transform(azdias_subset1)\n",
    "\n",
    "print(\"reduced dataset: number of data points {}, number of features {}\".format(\n",
    "    azdias_subset1_reduce.shape[0], azdias_subset1_reduce.shape[1]))"
   ]
  },
  {
   "cell_type": "code",
   "execution_count": 41,
   "metadata": {},
   "outputs": [
    {
     "name": "stdout",
     "output_type": "stream",
     "text": [
      "Total sum of explained variance ratio retained after dimensional reduction:  0.616527347195\n"
     ]
    }
   ],
   "source": [
    "print('Total sum of explained variance ratio retained after dimensional reduction: ', \n",
    "      np.sum(pca_model_reduce.explained_variance_ratio_))"
   ]
  },
  {
   "cell_type": "markdown",
   "metadata": {},
   "source": [
    "### Discussion 2.2: Perform Dimensionality Reduction\n",
    "\n",
    "(Double-click this cell and replace this text with your own text, reporting your findings and decisions regarding dimensionality reduction. How many principal components / transformed features are you retaining for the next step of the analysis?)\n",
    "\n",
    "First, perform PCA with no number of component set and plot the cumulative explained variance ratio. By looking at the plot, we could draw a conclusion that about 60% of variance/information could be retained by keeping the top 50 components transformed by PCA."
   ]
  },
  {
   "cell_type": "markdown",
   "metadata": {},
   "source": [
    "### Step 2.3: Interpret Principal Components\n",
    "\n",
    "Now that we have our transformed principal components, it's a nice idea to check out the weight of each variable on the first few components to see if they can be interpreted in some fashion.\n",
    "\n",
    "As a reminder, each principal component is a unit vector that points in the direction of highest variance (after accounting for the variance captured by earlier principal components). The further a weight is from zero, the more the principal component is in the direction of the corresponding feature. If two features have large weights of the same sign (both positive or both negative), then increases in one tend expect to be associated with increases in the other. To contrast, features with different signs can be expected to show a negative correlation: increases in one variable should result in a decrease in the other.\n",
    "\n",
    "- To investigate the features, you should map each weight to their corresponding feature name, then sort the features according to weight. The most interesting features for each principal component, then, will be those at the beginning and end of the sorted list. Use the data dictionary document to help you understand these most prominent features, their relationships, and what a positive or negative value on the principal component might indicate.\n",
    "- You should investigate and interpret feature associations from the first three principal components in this substep. To help facilitate this, you should write a function that you can call at any time to print the sorted list of feature weights, for the *i*-th principal component. This might come in handy in the next step of the project, when you interpret the tendencies of the discovered clusters."
   ]
  },
  {
   "cell_type": "code",
   "execution_count": 42,
   "metadata": {},
   "outputs": [],
   "source": [
    "# Map weights for the first principal component to corresponding feature names\n",
    "# and then print the linked values, sorted by weight.\n",
    "# HINT: Try defining a function here or in a new cell that you can reuse in the\n",
    "# other cells.\n",
    "def mapFunc(n):\n",
    "    \"\"\"\n",
    "    this function map the index of reduced feature space to orginal feature names and its value, sorted by weight\n",
    "    input: the component index in reduced feature space, starting at 0\n",
    "    return: list of feature names, list of linked values\n",
    "    \"\"\"\n",
    "    list_of_values = pca_model_reduce.components_[n]\n",
    "    temp = []\n",
    "    for w, label in zip(list_of_values, azdias_subset1.columns.values.tolist()):\n",
    "        temp.append((w, label))\n",
    "        pass\n",
    "    temp.sort(reverse=True)\n",
    "    return [label for w, label in temp], [w for w, label in temp]"
   ]
  },
  {
   "cell_type": "code",
   "execution_count": 43,
   "metadata": {},
   "outputs": [
    {
     "name": "stdout",
     "output_type": "stream",
     "text": [
      "The first 3 features of the first principal component: \n",
      "['LP_STATUS_GROB_1.0', 'HH_EINKOMMEN_SCORE', 'WEALTH_LEVEL']\n",
      "And their linked values: \n",
      "[0.1859639266275889, 0.17570838019777382, 0.17545357098067391]\n",
      "The last 3 features of the first principal component: \n",
      "['FINANZ_MINIMALIST', 'KBA05_ANTG1', 'MOBI_REGIO']\n",
      "And their linked values: \n",
      "[-0.18113732653855921, -0.18652433206880595, -0.19793142471868788]\n"
     ]
    }
   ],
   "source": [
    "feature_names, vector_values = mapFunc(0)\n",
    "\n",
    "print('The first 3 features of the first principal component: ')\n",
    "print(feature_names[:3])\n",
    "print('And their linked values: ')\n",
    "print(vector_values[:3])\n",
    "\n",
    "print('The last 3 features of the first principal component: ')\n",
    "print(feature_names[len(feature_names)-3:])\n",
    "print('And their linked values: ')\n",
    "print(vector_values[len(feature_names)-3:])"
   ]
  },
  {
   "cell_type": "code",
   "execution_count": 44,
   "metadata": {},
   "outputs": [
    {
     "name": "stdout",
     "output_type": "stream",
     "text": [
      "The first 3 features of the second principal component: \n",
      "['ALTERSKATEGORIE_GROB', 'FINANZ_VORSORGER', 'ZABEOTYP_3']\n",
      "And their linked values: \n",
      "[0.23576920380210692, 0.21340451477953176, 0.20043094780766249]\n",
      "The last 3 features of the second principal component: \n",
      "['SEMIO_REL', 'FINANZ_SPARER', 'YOUTH_MOVEMENT_DECADE']\n",
      "And their linked values: \n",
      "[-0.22196731583338672, -0.2253663056554133, -0.22793099299130545]\n"
     ]
    }
   ],
   "source": [
    "# Map weights for the second principal component to corresponding feature names\n",
    "# and then print the linked values, sorted by weight.\n",
    "\n",
    "feature_names, vector_values = mapFunc(1)\n",
    "\n",
    "print('The first 3 features of the second principal component: ')\n",
    "print(feature_names[:3])\n",
    "print('And their linked values: ')\n",
    "print(vector_values[:3])\n",
    "\n",
    "print('The last 3 features of the second principal component: ')\n",
    "print(feature_names[len(feature_names)-3:])\n",
    "print('And their linked values: ')\n",
    "print(vector_values[len(feature_names)-3:])"
   ]
  },
  {
   "cell_type": "code",
   "execution_count": 45,
   "metadata": {},
   "outputs": [
    {
     "name": "stdout",
     "output_type": "stream",
     "text": [
      "The first 3 features of the third principal component: \n",
      "['SEMIO_VERT', 'SEMIO_FAM', 'SEMIO_SOZ']\n",
      "And their linked values: \n",
      "[0.31433617555992066, 0.25114931246151412, 0.25025954468928496]\n",
      "The last 3 features of the third principal component: \n",
      "['SEMIO_DOM', 'SEMIO_KAEM', 'ANREDE_KZ']\n",
      "And their linked values: \n",
      "[-0.26860771535785471, -0.30179887100727509, -0.33294682014890042]\n"
     ]
    }
   ],
   "source": [
    "# Map weights for the third principal component to corresponding feature names\n",
    "# and then print the linked values, sorted by weight.\n",
    "\n",
    "feature_names, vector_values = mapFunc(2)\n",
    "\n",
    "print('The first 3 features of the third principal component: ')\n",
    "print(feature_names[:3])\n",
    "print('And their linked values: ')\n",
    "print(vector_values[:3])\n",
    "\n",
    "print('The last 3 features of the third principal component: ')\n",
    "print(feature_names[len(feature_names)-3:])\n",
    "print('And their linked values: ')\n",
    "print(vector_values[len(feature_names)-3:])"
   ]
  },
  {
   "cell_type": "markdown",
   "metadata": {},
   "source": [
    "### Discussion 2.3: Interpret Principal Components\n",
    "\n",
    "(Double-click this cell and replace this text with your own text, reporting your observations from detailed investigation of the first few principal components generated. Can we interpret positive and negative values from them in a meaningful way?)\n",
    "\n",
    "Let's take a look at the first principal component:\n",
    "\n",
    "    The first three features:\n",
    "        'LP_STATUS_GROB_1.0': indicate a low income earner.\n",
    "        'HH_EINKOMMEN_SCORE': indicate low incomes.\n",
    "        'WEALTH_LEVEL': indicate poor household.\n",
    "\n",
    "    The last three features:\n",
    "        'FINANZ_MINIMALIST': indicate lower likelyhood of being financial minimalist\n",
    "        'KBA05_ANTG1': indicate high share of 1-2 family homes\n",
    "        'MOBI_REGIO': indicate low movement patterns\n",
    "\n",
    "In summary, the first principal component tends to indicate the level of poverty and unstability in its positive direction and the wealthness and stability in life in its negative direction.\n",
    "\n",
    "\n",
    "Similarly, the second principal component:\n",
    "\n",
    "    The first three features:\n",
    "        'ALTERSKATEGORIE_GROB': indicate old ages\n",
    "        'FINANZ_VORSORGER': indicate being less financially prepared\n",
    "        'ZABEOTYP_3': indicate \"fair supplied\" in energy comsuption typology.\n",
    "        \n",
    "    The last three features:\n",
    "        'SEMIO_REL': indicate a low affinity to religion\n",
    "        'FINANZ_SPARER': indicate a less-likely money saver\n",
    "        'YOUTH_MOVEMENT_DECADE': indicate a more recent youth movement decade\n",
    "        \n",
    "In summary, the second principal component tends to indicate older ages in its positive direction and younger ages in its negative direction.\n",
    "\n",
    "The third principal component:\n",
    "\n",
    "    The first three features:\n",
    "        'SEMIO_VERT': indicate a low affinity to being dreamful\n",
    "        'SEMIO_FAM': indicate a low affinity to being family-minded\n",
    "        'SEMIO_SOZ': indicate a low affinity to being socially-minded\n",
    "        \n",
    "    The second three features:\n",
    "        'SEMIO_DOM': indicate a low affinity to being dominant-minded\n",
    "        'SEMIO_KAEM': indicate a low affinity to combative attitude\n",
    "        'ANREDE_KZ': indicate a high-likelyhood of being female\n",
    "        \n",
    "In summary, the third principal component tends to indicate being more practical, stronger individualism in its positive direction and being more peaceful-minded in its negative direction."
   ]
  },
  {
   "cell_type": "markdown",
   "metadata": {},
   "source": [
    "## Step 3: Clustering\n",
    "\n",
    "### Step 3.1: Apply Clustering to General Population\n",
    "\n",
    "You've assessed and cleaned the demographics data, then scaled and transformed them. Now, it's time to see how the data clusters in the principal components space. In this substep, you will apply k-means clustering to the dataset and use the average within-cluster distances from each point to their assigned cluster's centroid to decide on a number of clusters to keep.\n",
    "\n",
    "- Use sklearn's [KMeans](http://scikit-learn.org/stable/modules/generated/sklearn.cluster.KMeans.html#sklearn.cluster.KMeans) class to perform k-means clustering on the PCA-transformed data.\n",
    "- Then, compute the average difference from each point to its assigned cluster's center. **Hint**: The KMeans object's `.score()` method might be useful here, but note that in sklearn, scores tend to be defined so that larger is better. Try applying it to a small, toy dataset, or use an internet search to help your understanding.\n",
    "- Perform the above two steps for a number of different cluster counts. You can then see how the average distance decreases with an increasing number of clusters. However, each additional cluster provides a smaller net benefit. Use this fact to select a final number of clusters in which to group the data. **Warning**: because of the large size of the dataset, it can take a long time for the algorithm to resolve. The more clusters to fit, the longer the algorithm will take. You should test for cluster counts through at least 10 clusters to get the full picture, but you shouldn't need to test for a number of clusters above about 30.\n",
    "- Once you've selected a final number of clusters to use, re-fit a KMeans instance to perform the clustering operation. Make sure that you also obtain the cluster assignments for the general demographics data, since you'll be using them in the final Step 3.3."
   ]
  },
  {
   "cell_type": "code",
   "execution_count": 46,
   "metadata": {},
   "outputs": [],
   "source": [
    "from sklearn.cluster import KMeans"
   ]
  },
  {
   "cell_type": "code",
   "execution_count": 47,
   "metadata": {},
   "outputs": [],
   "source": [
    "def calculateAverageDistance(data_points, y_pred, cluster_centers):\n",
    "    dist_sum = 0\n",
    "    for label in np.unique(y_pred):\n",
    "        dist_sum += np.sum([np.linalg.norm(x-cluster_centers[label])\n",
    "                            for x in data_points[y_pred==label]])\n",
    "        pass\n",
    "    return dist_sum / len(y_pred)"
   ]
  },
  {
   "cell_type": "code",
   "execution_count": 48,
   "metadata": {},
   "outputs": [
    {
     "name": "stdout",
     "output_type": "stream",
     "text": [
      "Average distance at 2 clusters: 10.2879156972445\n",
      "Average distance at 4 clusters: 9.791709365654631\n",
      "Average distance at 6 clusters: 9.527655117432321\n",
      "Average distance at 8 clusters: 9.363931863013681\n",
      "Average distance at 10 clusters: 9.22390192091452\n",
      "Average distance at 12 clusters: 9.109906810240558\n",
      "Average distance at 14 clusters: 9.014008185041943\n",
      "Average distance at 16 clusters: 8.927146800370155\n",
      "Average distance at 18 clusters: 8.851446512998105\n",
      "Average distance at 20 clusters: 8.783832834452411\n",
      "Average distance at 22 clusters: 8.725521627747913\n",
      "Average distance at 24 clusters: 8.674342297758239\n",
      "Average distance at 26 clusters: 8.63029487342359\n",
      "Average distance at 28 clusters: 8.578915634892354\n"
     ]
    }
   ],
   "source": [
    "# Over a number of different cluster counts...\n",
    "list_of_clusters = range(2, 30, 2)\n",
    "list_of_avg_dist = []\n",
    "for n in list_of_clusters:\n",
    "    # run k-means clustering on the data and...\n",
    "    k_model = KMeans(n)\n",
    "    y_pred = k_model.fit_predict(azdias_subset1_reduce)\n",
    "    # compute the average within-cluster distances.\n",
    "    dist = calculateAverageDistance(azdias_subset1_reduce,                                                                            \n",
    "                                    y_pred, k_model.cluster_centers_)\n",
    "    list_of_avg_dist.append(dist)\n",
    "    print('Average distance at {} clusters: {}'.format(n, dist))\n",
    "    pass"
   ]
  },
  {
   "cell_type": "code",
   "execution_count": 49,
   "metadata": {},
   "outputs": [
    {
     "data": {
      "image/png": "[encoded data removed]",
      "text/plain": [
       "<matplotlib.figure.Figure at 0x7fabb16973c8>"
      ]
     },
     "metadata": {},
     "output_type": "display_data"
    }
   ],
   "source": [
    "# Investigate the change in within-cluster distance across number of clusters.\n",
    "# HINT: Use matplotlib's plot function to visualize this relationship.\n",
    "\n",
    "plt.plot(list_of_clusters, list_of_avg_dist, marker='o')\n",
    "plt.xlabel('Number of clusters')\n",
    "plt.ylabel('Average Distance to Cluster Centers')\n",
    "plt.show()"
   ]
  },
  {
   "cell_type": "code",
   "execution_count": 50,
   "metadata": {},
   "outputs": [
    {
     "name": "stdout",
     "output_type": "stream",
     "text": [
      "The elbow is located at 8\n"
     ]
    }
   ],
   "source": [
    "target_n = 8\n",
    "print(\"The elbow is located at {}\".format(target_n))"
   ]
  },
  {
   "cell_type": "code",
   "execution_count": 51,
   "metadata": {},
   "outputs": [],
   "source": [
    "# Re-fit the k-means model with the selected number of clusters and obtain\n",
    "# cluster predictions for the general population demographics data.\n",
    "\n",
    "k_model = KMeans(target_n)\n",
    "y_pred_gen = k_model.fit_predict(azdias_subset1_reduce)"
   ]
  },
  {
   "cell_type": "markdown",
   "metadata": {},
   "source": [
    "### Discussion 3.1: Apply Clustering to General Population\n",
    "\n",
    "(Double-click this cell and replace this text with your own text, reporting your findings and decisions regarding clustering. Into how many clusters have you decided to segment the population?)\n",
    "\n",
    "If we take a look at the plot of average distance versus number of clusters, the distance will always decrease as the number of clusters increases. This makes sense since more centroids we have, closer each datapoint is to the corresponding centroid. However, too many cluster centroids may damage the validity of clustering itself because it can not generalize well.\n",
    "\n",
    "The right number of clusters will give a low average within-cluster distance while being kept relatively low. So we will choose the elbow point where the decreasing rate of distance over number of clusters begin to slow down significantly. That is why we choose number of clusters to be 8"
   ]
  },
  {
   "cell_type": "markdown",
   "metadata": {},
   "source": [
    "### Step 3.2: Apply All Steps to the Customer Data\n",
    "\n",
    "Now that you have clusters and cluster centers for the general population, it's time to see how the customer data maps on to those clusters. Take care to not confuse this for re-fitting all of the models to the customer data. Instead, you're going to use the fits from the general population to clean, transform, and cluster the customer data. In the last step of the project, you will interpret how the general population fits apply to the customer data.\n",
    "\n",
    "- Don't forget when loading in the customers data, that it is semicolon (`;`) delimited.\n",
    "- Apply the same feature wrangling, selection, and engineering steps to the customer demographics using the `clean_data()` function you created earlier. (You can assume that the customer demographics data has similar meaning behind missing data patterns as the general demographics data.)\n",
    "- Use the sklearn objects from the general demographics data, and apply their transformations to the customers data. That is, you should not be using a `.fit()` or `.fit_transform()` method to re-fit the old objects, nor should you be creating new sklearn objects! Carry the data through the feature scaling, PCA, and clustering steps, obtaining cluster assignments for all of the data in the customer demographics data."
   ]
  },
  {
   "cell_type": "code",
   "execution_count": 52,
   "metadata": {},
   "outputs": [],
   "source": [
    "# Load in the customer demographics data.\n",
    "customers = pd.read_csv('Udacity_CUSTOMERS_Subset.csv', sep=';')"
   ]
  },
  {
   "cell_type": "code",
   "execution_count": 53,
   "metadata": {},
   "outputs": [],
   "source": [
    "# Apply preprocessing, feature transformation, and clustering from the general\n",
    "# demographics onto the customer data, obtaining cluster predictions for the\n",
    "# customer demographics data.\n",
    "\n",
    "# data cleaning\n",
    "customers_cleaned = clean_data(customers)\n",
    "\n",
    "# imputation\n",
    "customers_cleaned = pd.DataFrame(imp.transform(customers_cleaned),\n",
    "                                 index=customers_cleaned.index,                    \n",
    "                                 columns=customers_cleaned.columns)\n",
    "\n",
    "# standard scaling\n",
    "std_scaler.transform(customers_cleaned)\n",
    "\n",
    "# PCA transform\n",
    "customers_reduced = pca_model_reduce.transform(customers_cleaned)\n",
    "\n",
    "# Kmean clustering\n",
    "y_pred_cus = k_model.predict(customers_reduced)"
   ]
  },
  {
   "cell_type": "markdown",
   "metadata": {},
   "source": [
    "### Step 3.3: Compare Customer Data to Demographics Data\n",
    "\n",
    "At this point, you have clustered data based on demographics of the general population of Germany, and seen how the customer data for a mail-order sales company maps onto those demographic clusters. In this final substep, you will compare the two cluster distributions to see where the strongest customer base for the company is.\n",
    "\n",
    "Consider the proportion of persons in each cluster for the general population, and the proportions for the customers. If we think the company's customer base to be universal, then the cluster assignment proportions should be fairly similar between the two. If there are only particular segments of the population that are interested in the company's products, then we should see a mismatch from one to the other. If there is a higher proportion of persons in a cluster for the customer data compared to the general population (e.g. 5% of persons are assigned to a cluster for the general population, but 15% of the customer data is closest to that cluster's centroid) then that suggests the people in that cluster to be a target audience for the company. On the other hand, the proportion of the data in a cluster being larger in the general population than the customer data (e.g. only 2% of customers closest to a population centroid that captures 6% of the data) suggests that group of persons to be outside of the target demographics.\n",
    "\n",
    "Take a look at the following points in this step:\n",
    "\n",
    "- Compute the proportion of data points in each cluster for the general population and the customer data. Visualizations will be useful here: both for the individual dataset proportions, but also to visualize the ratios in cluster representation between groups. Seaborn's [`countplot()`](https://seaborn.pydata.org/generated/seaborn.countplot.html) or [`barplot()`](https://seaborn.pydata.org/generated/seaborn.barplot.html) function could be handy.\n",
    "  - Recall the analysis you performed in step 1.1.3 of the project, where you separated out certain data points from the dataset if they had more than a specified threshold of missing values. If you found that this group was qualitatively different from the main bulk of the data, you should treat this as an additional data cluster in this analysis. Make sure that you account for the number of data points in this subset, for both the general population and customer datasets, when making your computations!\n",
    "- Which cluster or clusters are overrepresented in the customer dataset compared to the general population? Select at least one such cluster and infer what kind of people might be represented by that cluster. Use the principal component interpretations from step 2.3 or look at additional components to help you make this inference. Alternatively, you can use the `.inverse_transform()` method of the PCA and StandardScaler objects to transform centroids back to the original data space and interpret the retrieved values directly.\n",
    "- Perform a similar investigation for the underrepresented clusters. Which cluster or clusters are underrepresented in the customer dataset compared to the general population, and what kinds of people are typified by these clusters?"
   ]
  },
  {
   "cell_type": "code",
   "execution_count": 54,
   "metadata": {},
   "outputs": [],
   "source": [
    "gen_labels, gen_label_counts = np.unique(y_pred_gen, return_counts=True)\n",
    "cus_labels, cus_label_counts = np.unique(y_pred_cus, return_counts=True)\n",
    "gen_label_percent = 100 * gen_label_counts / np.sum(gen_label_counts)\n",
    "cus_label_percent = 100 * cus_label_counts / np.sum(cus_label_counts)\n",
    "\n",
    "gen_df = pd.DataFrame({'cluster label':gen_labels, 'percent':gen_label_percent,\n",
    "                       'data source':['general population']*len(gen_labels)})\n",
    "cus_df = pd.DataFrame({'cluster label':cus_labels, 'percent':cus_label_percent,  \n",
    "                       'data source':['customers']*len(cus_labels)})\n",
    "total_df = pd.concat([gen_df, cus_df])\n",
    "\n",
    "diff_df = pd.DataFrame({'cluster label':cus_labels, 'percent difference':cus_label_percent-gen_label_percent})"
   ]
  },
  {
   "cell_type": "code",
   "execution_count": 55,
   "metadata": {},
   "outputs": [
    {
     "data": {
      "image/png": "[encoded data removed]",
      "text/plain": [
       "<matplotlib.figure.Figure at 0x7fabb16d1358>"
      ]
     },
     "metadata": {},
     "output_type": "display_data"
    }
   ],
   "source": [
    "# Compare the proportion of data in each cluster for the customer data to the\n",
    "# proportion of data in each cluster for the general population.\n",
    "sns.barplot(x='cluster label', y='percent', hue='data source', data=total_df)\n",
    "plt.grid(True)\n",
    "plt.show()"
   ]
  },
  {
   "cell_type": "code",
   "execution_count": 56,
   "metadata": {},
   "outputs": [
    {
     "data": {
      "image/png": "[encoded data removed]",
      "text/plain": [
       "<matplotlib.figure.Figure at 0x7fabb1430518>"
      ]
     },
     "metadata": {},
     "output_type": "display_data"
    }
   ],
   "source": [
    "sns.barplot(x='cluster label', y='percent difference', data=diff_df)\n",
    "plt.grid(True)\n",
    "plt.show()"
   ]
  },
  {
   "cell_type": "code",
   "execution_count": 60,
   "metadata": {},
   "outputs": [],
   "source": [
    "idx_overrepresented = 0\n",
    "idx_underrepresented = 4"
   ]
  },
  {
   "cell_type": "code",
   "execution_count": 61,
   "metadata": {},
   "outputs": [
    {
     "name": "stdout",
     "output_type": "stream",
     "text": [
      "cluster 0 is the most overrepresented in the customer data\n",
      "The value on the first principal component is -4.93734748747\n",
      "The value on the second principal component is 0.596442480428\n",
      "The value on the third principal component is 1.09998980069\n"
     ]
    }
   ],
   "source": [
    "# What kinds of people are part of a cluster that is overrepresented in the\n",
    "# customer data compared to the general population?\n",
    "\n",
    "print(\"cluster {} is the most overrepresented in the customer data\".format(idx_overrepresented))\n",
    "\n",
    "print(\"The value on the first principal component is\", k_model.cluster_centers_[idx_overrepresented][0])\n",
    "print(\"The value on the second principal component is\", k_model.cluster_centers_[idx_overrepresented][1])\n",
    "print(\"The value on the third principal component is\", k_model.cluster_centers_[idx_overrepresented][2])"
   ]
  },
  {
   "cell_type": "code",
   "execution_count": 62,
   "metadata": {},
   "outputs": [
    {
     "name": "stdout",
     "output_type": "stream",
     "text": [
      "cluster 4 is the most underrepresented in the customer data\n",
      "The value on the first principal component is 5.59531096317\n",
      "The value on the second principal component is -2.55136019221\n",
      "The value on the third principal component is -0.331847186646\n"
     ]
    }
   ],
   "source": [
    "# What kinds of people are part of a cluster that is underrepresented in the\n",
    "# customer data compared to the general population?\n",
    "\n",
    "print(\"cluster {} is the most underrepresented in the customer data\".format(idx_underrepresented))\n",
    "\n",
    "print(\"The value on the first principal component is\", k_model.cluster_centers_[idx_underrepresented][0])\n",
    "print(\"The value on the second principal component is\", k_model.cluster_centers_[idx_underrepresented][1])\n",
    "print(\"The value on the third principal component is\", k_model.cluster_centers_[idx_underrepresented][2])"
   ]
  },
  {
   "cell_type": "markdown",
   "metadata": {},
   "source": [
    "### Discussion 3.3: Compare Customer Data to Demographics Data\n",
    "(Double-click this cell and replace this text with your own text, reporting findings and conclusions from the clustering analysis. Can we describe segments of the population that are relatively popular with the mail-order company, or relatively unpopular with the company?)\n",
    "\n",
    "A quick recap of what I found in Step 2.3:\n",
    "\"In summary, the first principal component tends to indicate the level of poverty and unstability in its positive direction and the wealthness and stability in life in its negative direction.\n",
    "\n",
    "In summary, the second principal component tends to indicate elder ages in its positive direction and younger ages in its negative direction.\n",
    "\n",
    "In summary, the third principal component tends to indicate being more practical, stronger individualism in its positive direction and being more peaceful-minded in its negative direction.\"\n",
    "\n",
    "Now the most overrepresented cluster in customers data has a center with negative value on the first principal component and positive values on the second and third principal components. It indicates that the segment of population clustered shares three traits in common: 1) wealthy and stable, 2) older, 3) more practical with stronger individualism. This segment of population more likely demonstrates strong purchasing power and will be the ideal targets of the company.\n",
    "\n",
    "On the other hand, the most underrepresented cluster in the customers data has a center with positive value on the first principal component and positive values on the second and third principal components. This is almost the opposite side of the segment of population described in the previous paragraph. People in this segment will tend to be: 1) financially struggling and unstable in life, 2) very young, 3) more peaceful-minded and more likely to be female. They will have a weaker purchasing power and will be less likely to be the targets of the company."
   ]
  },
  {
   "cell_type": "markdown",
   "metadata": {},
   "source": [
    "> Congratulations on making it this far in the project! Before you finish, make sure to check through the entire notebook from top to bottom to make sure that your analysis follows a logical flow and all of your findings are documented in **Discussion** cells. Once you've checked over all of your work, you should export the notebook as an HTML document to submit for evaluation. You can do this from the menu, navigating to **File -> Download as -> HTML (.html)**. You will submit both that document and this notebook for your project submission."
   ]
  },
  {
   "cell_type": "code",
   "execution_count": null,
   "metadata": {},
   "outputs": [],
   "source": []
  }
 ],
 "metadata": {
  "kernelspec": {
   "display_name": "Python 3",
   "language": "python",
   "name": "python3"
  },
  "language_info": {
   "codemirror_mode": {
    "name": "ipython",
    "version": 3
   },
   "file_extension": ".py",
   "mimetype": "text/x-python",
   "name": "python",
   "nbconvert_exporter": "python",
   "pygments_lexer": "ipython3",
   "version": "3.6.3"
  }
 },
 "nbformat": 4,
 "nbformat_minor": 2
}
